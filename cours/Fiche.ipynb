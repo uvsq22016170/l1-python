{
 "cells": [
  {
   "cell_type": "markdown",
   "metadata": {},
   "source": [
    "# 03_structures_iteratives"
   ]
  },
  {
   "cell_type": "markdown",
   "metadata": {},
   "source": [
    "Le mot clé **continue** permet de passer prématurément à l'itération suivante de la boucle."
   ]
  },
  {
   "cell_type": "code",
   "execution_count": 28,
   "metadata": {},
   "outputs": [
    {
     "name": "stdout",
     "output_type": "stream",
     "text": [
      "1 est impair\n",
      "3 est impair\n",
      "5 est impair\n",
      "7 est impair\n",
      "9 est impair\n",
      "11 est impair\n",
      "13 est impair\n",
      "15 est impair\n",
      "17 est impair\n",
      "19 est impair\n",
      "Terminé\n"
     ]
    }
   ],
   "source": [
    "for i in range(1, 21) :\n",
    "    if i % 2 == 0 :\n",
    "        continue\n",
    "        print(\"résultat?\")\n",
    "    print(i, \"est impair\")\n",
    "print(\"Terminé\") "
   ]
  },
  {
   "cell_type": "markdown",
   "metadata": {},
   "source": [
    "# 04_fonctions"
   ]
  },
  {
   "cell_type": "markdown",
   "metadata": {},
   "source": [
    "## 5. Fonctions anonymes: lambda expressions\n",
    "\n",
    "\n",
    "Pour définir une fonction courte, il existe une syntaxe alternative utilisant l'opérateur **lambda**.\n"
   ]
  },
  {
   "cell_type": "code",
   "execution_count": 29,
   "metadata": {},
   "outputs": [
    {
     "name": "stdout",
     "output_type": "stream",
     "text": [
      "4\n"
     ]
    }
   ],
   "source": [
    "g = lambda x: x*2  \n",
    "print(g(2))\n",
    "\n",
    "#Attention la définition doit tenir sur une ligne. On ne peut pas utiliser des instructions de contrôle\n",
    "#dans la définition de la fonction."
   ]
  },
  {
   "cell_type": "code",
   "execution_count": 30,
   "metadata": {},
   "outputs": [
    {
     "name": "stdout",
     "output_type": "stream",
     "text": [
      "6\n"
     ]
    },
    {
     "data": {
      "text/plain": [
       "[0, 2, 4, 6, 8, 10, 12, 14, 16, 18]"
      ]
     },
     "execution_count": 30,
     "metadata": {},
     "output_type": "execute_result"
    }
   ],
   "source": [
    "print((lambda x: x*2)(3))\n",
    "\n",
    "list(map(lambda x: x*2,range(10)))#applique la fonction à chaque élément de range(10)"
   ]
  },
  {
   "cell_type": "markdown",
   "metadata": {},
   "source": [
    "# 05_outils"
   ]
  },
  {
   "cell_type": "markdown",
   "metadata": {},
   "source": [
    "## 5. Tests\n",
    "\n",
    "\n",
    "Le plus simple des méchanismes qu'on peut utiliser pour garantir la correction du code est d'utiliser des `assert`. Cette construction est suivie d'une condition et si la condition est fausse, le code s'arrête avec une erreur.\n",
    "Le message d'erreur est paramétrable, il suffit de le mettre à la suite de la condition, séparé par une virgule."
   ]
  },
  {
   "cell_type": "code",
   "execution_count": 31,
   "metadata": {},
   "outputs": [
    {
     "name": "stdout",
     "output_type": "stream",
     "text": [
      "9\n"
     ]
    },
    {
     "ename": "AssertionError",
     "evalue": "",
     "output_type": "error",
     "traceback": [
      "\u001b[1;31m---------------------------------------------------------------------------\u001b[0m",
      "\u001b[1;31mAssertionError\u001b[0m                            Traceback (most recent call last)",
      "\u001b[1;32m~\\AppData\\Local\\Temp/ipykernel_30368/1707398616.py\u001b[0m in \u001b[0;36m<module>\u001b[1;34m\u001b[0m\n\u001b[0;32m      8\u001b[0m \u001b[1;33m\u001b[0m\u001b[0m\n\u001b[0;32m      9\u001b[0m \u001b[0mprint\u001b[0m\u001b[1;33m(\u001b[0m\u001b[0mmax\u001b[0m\u001b[1;33m(\u001b[0m\u001b[1;33m[\u001b[0m\u001b[1;36m1\u001b[0m\u001b[1;33m,\u001b[0m\u001b[1;36m2\u001b[0m\u001b[1;33m,\u001b[0m\u001b[1;36m3\u001b[0m\u001b[1;33m,\u001b[0m\u001b[1;36m9\u001b[0m\u001b[1;33m]\u001b[0m\u001b[1;33m)\u001b[0m\u001b[1;33m)\u001b[0m\u001b[1;33m\u001b[0m\u001b[1;33m\u001b[0m\u001b[0m\n\u001b[1;32m---> 10\u001b[1;33m \u001b[0mmax\u001b[0m\u001b[1;33m(\u001b[0m\u001b[1;33m[\u001b[0m\u001b[1;33m]\u001b[0m\u001b[1;33m)\u001b[0m\u001b[1;33m\u001b[0m\u001b[1;33m\u001b[0m\u001b[0m\n\u001b[0m",
      "\u001b[1;32m~\\AppData\\Local\\Temp/ipykernel_30368/1707398616.py\u001b[0m in \u001b[0;36mmax\u001b[1;34m(liste)\u001b[0m\n\u001b[0;32m      1\u001b[0m \u001b[1;32mdef\u001b[0m \u001b[0mmax\u001b[0m\u001b[1;33m(\u001b[0m\u001b[0mliste\u001b[0m\u001b[1;33m)\u001b[0m\u001b[1;33m:\u001b[0m  \u001b[1;31m#calcul d'un max, on suppose que la liste est non vide\u001b[0m\u001b[1;33m\u001b[0m\u001b[1;33m\u001b[0m\u001b[0m\n\u001b[1;32m----> 2\u001b[1;33m     \u001b[1;32massert\u001b[0m \u001b[0mlen\u001b[0m\u001b[1;33m(\u001b[0m\u001b[0mliste\u001b[0m\u001b[1;33m)\u001b[0m \u001b[1;33m!=\u001b[0m \u001b[1;36m0\u001b[0m\u001b[1;33m\u001b[0m\u001b[1;33m\u001b[0m\u001b[0m\n\u001b[0m\u001b[0;32m      3\u001b[0m     \u001b[0mmaximum\u001b[0m \u001b[1;33m=\u001b[0m \u001b[0mliste\u001b[0m\u001b[1;33m[\u001b[0m\u001b[1;36m0\u001b[0m\u001b[1;33m]\u001b[0m\u001b[1;33m\u001b[0m\u001b[1;33m\u001b[0m\u001b[0m\n\u001b[0;32m      4\u001b[0m     \u001b[1;32mfor\u001b[0m \u001b[0melem\u001b[0m \u001b[1;32min\u001b[0m \u001b[0mliste\u001b[0m\u001b[1;33m:\u001b[0m\u001b[1;33m\u001b[0m\u001b[1;33m\u001b[0m\u001b[0m\n\u001b[0;32m      5\u001b[0m         \u001b[1;32mif\u001b[0m \u001b[0mmaximum\u001b[0m \u001b[1;33m<\u001b[0m \u001b[0melem\u001b[0m\u001b[1;33m:\u001b[0m\u001b[1;33m\u001b[0m\u001b[1;33m\u001b[0m\u001b[0m\n",
      "\u001b[1;31mAssertionError\u001b[0m: "
     ]
    }
   ],
   "source": [
    "def max(liste):  #calcul d'un max, on suppose que la liste est non vide\n",
    "    assert len(liste) != 0\n",
    "    maximum = liste[0]\n",
    "    for elem in liste:\n",
    "        if maximum < elem:\n",
    "            maximum = elem\n",
    "    return maximum  \n",
    "\n",
    "print(max([1,2,3,9]))\n",
    "max([])"
   ]
  },
  {
   "cell_type": "code",
   "execution_count": 32,
   "metadata": {},
   "outputs": [
    {
     "name": "stdout",
     "output_type": "stream",
     "text": [
      "9\n"
     ]
    },
    {
     "ename": "AssertionError",
     "evalue": "Un élément négatif",
     "output_type": "error",
     "traceback": [
      "\u001b[1;31m---------------------------------------------------------------------------\u001b[0m",
      "\u001b[1;31mAssertionError\u001b[0m                            Traceback (most recent call last)",
      "\u001b[1;32m~\\AppData\\Local\\Temp/ipykernel_30368/2104705947.py\u001b[0m in \u001b[0;36m<module>\u001b[1;34m\u001b[0m\n\u001b[0;32m      8\u001b[0m \u001b[1;33m\u001b[0m\u001b[0m\n\u001b[0;32m      9\u001b[0m \u001b[0mprint\u001b[0m\u001b[1;33m(\u001b[0m\u001b[0mmax\u001b[0m\u001b[1;33m(\u001b[0m\u001b[1;33m[\u001b[0m\u001b[1;36m1\u001b[0m\u001b[1;33m,\u001b[0m \u001b[1;36m2\u001b[0m\u001b[1;33m,\u001b[0m \u001b[1;36m3\u001b[0m\u001b[1;33m,\u001b[0m \u001b[1;36m9\u001b[0m\u001b[1;33m]\u001b[0m\u001b[1;33m)\u001b[0m\u001b[1;33m)\u001b[0m\u001b[1;33m\u001b[0m\u001b[1;33m\u001b[0m\u001b[0m\n\u001b[1;32m---> 10\u001b[1;33m \u001b[0mmax\u001b[0m\u001b[1;33m(\u001b[0m\u001b[1;33m[\u001b[0m\u001b[1;36m1\u001b[0m\u001b[1;33m,\u001b[0m \u001b[1;36m3\u001b[0m\u001b[1;33m,\u001b[0m \u001b[1;36m4\u001b[0m\u001b[1;33m,\u001b[0m \u001b[1;33m-\u001b[0m\u001b[1;36m2\u001b[0m\u001b[1;33m,\u001b[0m \u001b[1;36m3\u001b[0m\u001b[1;33m]\u001b[0m\u001b[1;33m)\u001b[0m\u001b[1;33m\u001b[0m\u001b[1;33m\u001b[0m\u001b[0m\n\u001b[0m",
      "\u001b[1;32m~\\AppData\\Local\\Temp/ipykernel_30368/2104705947.py\u001b[0m in \u001b[0;36mmax\u001b[1;34m(liste)\u001b[0m\n\u001b[0;32m      2\u001b[0m     \u001b[0mmaximum\u001b[0m \u001b[1;33m=\u001b[0m \u001b[1;36m0\u001b[0m\u001b[1;33m\u001b[0m\u001b[1;33m\u001b[0m\u001b[0m\n\u001b[0;32m      3\u001b[0m     \u001b[1;32mfor\u001b[0m \u001b[0melem\u001b[0m \u001b[1;32min\u001b[0m \u001b[0mliste\u001b[0m\u001b[1;33m:\u001b[0m\u001b[1;33m\u001b[0m\u001b[1;33m\u001b[0m\u001b[0m\n\u001b[1;32m----> 4\u001b[1;33m         \u001b[1;32massert\u001b[0m \u001b[0melem\u001b[0m \u001b[1;33m>=\u001b[0m \u001b[1;36m0\u001b[0m\u001b[1;33m,\u001b[0m \u001b[1;34m\"Un élément négatif\"\u001b[0m \u001b[1;31m# assert avec un message d'erreur\u001b[0m\u001b[1;33m\u001b[0m\u001b[1;33m\u001b[0m\u001b[0m\n\u001b[0m\u001b[0;32m      5\u001b[0m         \u001b[1;32mif\u001b[0m \u001b[0mmaximum\u001b[0m \u001b[1;33m<\u001b[0m \u001b[0melem\u001b[0m\u001b[1;33m:\u001b[0m\u001b[1;33m\u001b[0m\u001b[1;33m\u001b[0m\u001b[0m\n\u001b[0;32m      6\u001b[0m             \u001b[0mmaximum\u001b[0m \u001b[1;33m=\u001b[0m \u001b[0melem\u001b[0m\u001b[1;33m\u001b[0m\u001b[1;33m\u001b[0m\u001b[0m\n",
      "\u001b[1;31mAssertionError\u001b[0m: Un élément négatif"
     ]
    }
   ],
   "source": [
    "def max(liste):  # calcul d'un max, on suppose que la liste est non vide et les valeurs sont positives\n",
    "    maximum = 0\n",
    "    for elem in liste:\n",
    "        assert elem >= 0, \"Un élément négatif\" # assert avec un message d'erreur\n",
    "        if maximum < elem:\n",
    "            maximum = elem\n",
    "    return maximum  \n",
    "\n",
    "print(max([1, 2, 3, 9]))\n",
    "max([1, 3, 4, -2, 3])"
   ]
  },
  {
   "cell_type": "code",
   "execution_count": 35,
   "metadata": {},
   "outputs": [],
   "source": [
    "#exemple de code satisfaisant et commenté\n",
    "\n",
    "def maxModulaire(liste, inferieur):  \n",
    "    \"\"\"Fonction calculant le maximum de liste qui doit être non vide, en utilisant la fonction de comparaison inferieur.\\n Si le maximum est répété, renvoie le premier qui a été détecté \"\"\"\n",
    "    assert len(liste) != 0, \"Pas possible de calculer un maximum dans une liste vide\"\n",
    "    maximum = liste[0] # initialise le maximum au premier élément de liste qui existe car la liste est non vide\n",
    "    for elem in liste:\n",
    "        if inferieur(maximum, elem):\n",
    "            maximum = elem\n",
    "    return maximum  "
   ]
  },
  {
   "cell_type": "markdown",
   "metadata": {},
   "source": [
    "On peut également utiliser des tests unitaires (hors programme pour la L1). \n",
    "\n",
    "Il s'agit de tester toutes ses fonctions sur un exemple pour s'assurer de leur fonctionnement.\n",
    "Le module `unittest` contient des outils pour ce faire.\n",
    "\n",
    "Voir le fichier test_unittest.py pour un exemple."
   ]
  },
  {
   "cell_type": "markdown",
   "metadata": {},
   "source": [
    "# 06_listes"
   ]
  },
  {
   "cell_type": "markdown",
   "metadata": {},
   "source": [
    "### Tranches\n",
    "\n",
    "On peut accéder à une partie (une **tranche**) d'une liste L en utilisant des indices :\n",
    "\n",
    "* `L[m:n]` donne accès aux éléments `L[m], L[m+1],..., L[n-1]`"
   ]
  },
  {
   "cell_type": "code",
   "execution_count": 36,
   "metadata": {},
   "outputs": [],
   "source": [
    "liste = [2, 3, 5, 7, 11, 13, 17, 19, 21, 23]"
   ]
  },
  {
   "cell_type": "code",
   "execution_count": 37,
   "metadata": {},
   "outputs": [
    {
     "name": "stdout",
     "output_type": "stream",
     "text": [
      "[5, 7, 11, 13]\n",
      "[5, 7, 11, 13]\n"
     ]
    }
   ],
   "source": [
    "print(liste[2:6])\n",
    "print(liste[-8:-4])"
   ]
  },
  {
   "cell_type": "code",
   "execution_count": 38,
   "metadata": {},
   "outputs": [
    {
     "data": {
      "text/plain": [
       "[7, 11, 13, 17, 19, 21, 23]"
      ]
     },
     "execution_count": 38,
     "metadata": {},
     "output_type": "execute_result"
    }
   ],
   "source": [
    "liste[3:]"
   ]
  },
  {
   "cell_type": "code",
   "execution_count": 39,
   "metadata": {},
   "outputs": [
    {
     "data": {
      "text/plain": [
       "[2, 3, 5, 7, 11]"
      ]
     },
     "execution_count": 39,
     "metadata": {},
     "output_type": "execute_result"
    }
   ],
   "source": [
    "liste[:5]"
   ]
  },
  {
   "cell_type": "code",
   "execution_count": 40,
   "metadata": {},
   "outputs": [
    {
     "data": {
      "text/plain": [
       "[2, 3, 5, 7, 11, 13, 17]"
      ]
     },
     "execution_count": 40,
     "metadata": {},
     "output_type": "execute_result"
    }
   ],
   "source": [
    "liste[:-3]"
   ]
  },
  {
   "cell_type": "markdown",
   "metadata": {},
   "source": [
    "* Si aucun indice n’est indiqué à gauche ou à droite de ':' tous les éléments depuis le début ou tous les éléments jusqu’à la fin respectivement sont pris par défaut."
   ]
  },
  {
   "cell_type": "markdown",
   "metadata": {},
   "source": [
    "Il est possible d'indiquer un **pas** (step) en ajoutant un symbole supplémentaire : `[m:n:step]`\n",
    "\n",
    "* Par défaut, si pas indiqué, le pas est de 1."
   ]
  },
  {
   "cell_type": "code",
   "execution_count": 41,
   "metadata": {},
   "outputs": [
    {
     "data": {
      "text/plain": [
       "[5, 11, 17]"
      ]
     },
     "execution_count": 41,
     "metadata": {},
     "output_type": "execute_result"
    }
   ],
   "source": [
    "liste = [2, 3, 5, 7, 11, 13, 17, 19, 21, 23]\n",
    "liste[2:8:2]"
   ]
  },
  {
   "cell_type": "code",
   "execution_count": 42,
   "metadata": {},
   "outputs": [
    {
     "data": {
      "text/plain": [
       "[2, 7, 17, 23]"
      ]
     },
     "execution_count": 42,
     "metadata": {},
     "output_type": "execute_result"
    }
   ],
   "source": [
    "liste[::3] "
   ]
  },
  {
   "cell_type": "code",
   "execution_count": 43,
   "metadata": {},
   "outputs": [
    {
     "data": {
      "text/plain": [
       "[23, 19, 13, 7, 3]"
      ]
     },
     "execution_count": 43,
     "metadata": {},
     "output_type": "execute_result"
    }
   ],
   "source": [
    "liste[::-2]"
   ]
  },
  {
   "cell_type": "code",
   "execution_count": 44,
   "metadata": {},
   "outputs": [
    {
     "data": {
      "text/plain": [
       "[2]"
      ]
     },
     "execution_count": 44,
     "metadata": {},
     "output_type": "execute_result"
    }
   ],
   "source": [
    "liste[::11]"
   ]
  },
  {
   "cell_type": "markdown",
   "metadata": {},
   "source": [
    "**Exercice:** Créer une fonction qui prend en entrée une liste et qui renvoie une nouvelle liste, correspondant à la liste inversée. Seules les opérations sur les *tranches* de liste sont admises."
   ]
  },
  {
   "cell_type": "code",
   "execution_count": 45,
   "metadata": {},
   "outputs": [
    {
     "data": {
      "text/plain": [
       "[5, 4, 3, 2, 1]"
      ]
     },
     "execution_count": 45,
     "metadata": {},
     "output_type": "execute_result"
    }
   ],
   "source": [
    "def inverseListe (l):\n",
    "    \"\"\"Renvoie une liste dont les éléments sont les éléments de l dans l'ordre inverse\"\"\"\n",
    "    return l[::-1]\n",
    "\n",
    "inverseListe([1,2,3,4,5])"
   ]
  },
  {
   "cell_type": "markdown",
   "metadata": {},
   "source": [
    "### Création de liste à l'aide de `list()` et `range()`\n",
    "\n",
    "* On peut utiliser l'instruction `range()` pour génerer des nombres entiers dans un intervalle.\n",
    "* En combinaison avec la fonction `list()`, elle permet de générer une liste d’entiers."
   ]
  },
  {
   "cell_type": "code",
   "execution_count": 51,
   "metadata": {},
   "outputs": [
    {
     "name": "stdout",
     "output_type": "stream",
     "text": [
      "[1, 2, 3, 4, 5, 6, 7, 8, 9]\n",
      "range(1, 10)\n"
     ]
    }
   ],
   "source": [
    "# Générer une liste d'entiers de 1 à 9\n",
    "print(list(range(1, 10)))\n",
    "print(range(1,10))"
   ]
  },
  {
   "cell_type": "markdown",
   "metadata": {},
   "source": [
    "**Exercice :** Écrire un programme qui demande à l'utilisateur de donner un entier $m$ et qui affiche la table de multiplication de $m$ en une seule commande avec les instructions range() et list()."
   ]
  },
  {
   "cell_type": "code",
   "execution_count": 53,
   "metadata": {},
   "outputs": [
    {
     "name": "stdout",
     "output_type": "stream",
     "text": [
      "[0, 2, 4, 6, 8, 10, 12, 14, 16, 18]\n"
     ]
    }
   ],
   "source": [
    "m = int(input(\"Donner un entier\"))\n",
    "print(list(range(0,10*m,m)))"
   ]
  },
  {
   "cell_type": "code",
   "execution_count": 54,
   "metadata": {},
   "outputs": [
    {
     "name": "stdout",
     "output_type": "stream",
     "text": [
      "[0, 5, 10, 15, 20, 25, 30, 35, 40, 45, 50]\n"
     ]
    }
   ],
   "source": [
    "m = int(input(\"Pour quel entier voulez-vous voir la table de multiplication ?\"))\n",
    "print(list(m*i for i in range(11)))"
   ]
  },
  {
   "cell_type": "markdown",
   "metadata": {},
   "source": [
    "## Modifier ou ajouter des éléments dans une liste\n",
    "\n",
    "Les listes sont des objets **mutables**. Leurs éléments peuvent donc être modifiés.\n",
    "\n",
    "On peut utiliser l'opérateur `=` pour modifier un élément ou une tranche d'éléments dans une liste.\n",
    "\n",
    "En écrivant `liste[i] = nouvel_element`, l'élément de la liste à l'indice `i` est replacé par `nouvel_element`."
   ]
  },
  {
   "cell_type": "code",
   "execution_count": 55,
   "metadata": {
    "slideshow": {
     "slide_type": "fragment"
    }
   },
   "outputs": [
    {
     "name": "stdout",
     "output_type": "stream",
     "text": [
      "['Paris', 'Berlin', 'Madrid', 'Athènes', 'Zagreb', 'Rome', 'Amsterdam']\n"
     ]
    }
   ],
   "source": [
    "capitales = [\"Paris\", \"Berlin\", \"Madrid\", \"Athènes\", \"Zagreb\", \"Rome\", \"Amsterdam\"]\n",
    "print(capitales)"
   ]
  },
  {
   "cell_type": "markdown",
   "metadata": {
    "slideshow": {
     "slide_type": "fragment"
    }
   },
   "source": [
    "Modifier la capitale à l'indice 2 par \"Copenhague\"."
   ]
  },
  {
   "cell_type": "code",
   "execution_count": 56,
   "metadata": {
    "slideshow": {
     "slide_type": "fragment"
    }
   },
   "outputs": [
    {
     "name": "stdout",
     "output_type": "stream",
     "text": [
      "['Paris', 'Berlin', 'Copenhague', 'Athènes', 'Zagreb', 'Rome', 'Amsterdam']\n"
     ]
    }
   ],
   "source": [
    "capitales[2] = \"Copenhague\"\n",
    "print(capitales)"
   ]
  },
  {
   "cell_type": "markdown",
   "metadata": {
    "slideshow": {
     "slide_type": "subslide"
    }
   },
   "source": [
    "Que fait l'instruction suivante ?"
   ]
  },
  {
   "cell_type": "code",
   "execution_count": 57,
   "metadata": {
    "slideshow": {
     "slide_type": "fragment"
    }
   },
   "outputs": [
    {
     "name": "stdout",
     "output_type": "stream",
     "text": [
      "['Paris', 'Berlin', 'Madrid', 'Athènes', 'Dublin', 'Budapest', 'Vienne']\n"
     ]
    }
   ],
   "source": [
    "capitales = [\"Paris\", \"Berlin\", \"Madrid\", \"Athènes\", \"Zagreb\", \"Rome\", \"Amsterdam\"]\n",
    "capitales[4:7] = [\"Dublin\", \"Budapest\", \"Vienne\"]\n",
    "print(capitales)"
   ]
  },
  {
   "cell_type": "markdown",
   "metadata": {
    "slideshow": {
     "slide_type": "subslide"
    }
   },
   "source": [
    "### La méthode `.append()`\n",
    "\n",
    "La méthode `.append()` permet d'ajouter un élément à la fin d'une liste."
   ]
  },
  {
   "cell_type": "markdown",
   "metadata": {
    "slideshow": {
     "slide_type": "fragment"
    }
   },
   "source": [
    "**⚠️** Si un élément est présent **plusieurs fois** dans une liste, la méthode `.remove()` ne supprime que sa **première apparition**."
   ]
  },
  {
   "cell_type": "code",
   "execution_count": 58,
   "metadata": {
    "slideshow": {
     "slide_type": "fragment"
    }
   },
   "outputs": [
    {
     "name": "stdout",
     "output_type": "stream",
     "text": [
      "['Paris', 'Berlin', 'Madrid', 'Athènes', 'Zagreb', 'Rome', 'Amsterdam', 'Bruxelles']\n"
     ]
    }
   ],
   "source": [
    "capitales = [\"Paris\", \"Berlin\", \"Madrid\", \"Athènes\", \"Zagreb\", \"Rome\", \"Amsterdam\"]\n",
    "capitales.append(\"Bruxelles\")\n",
    "print(capitales)"
   ]
  },
  {
   "cell_type": "markdown",
   "metadata": {
    "slideshow": {
     "slide_type": "subslide"
    }
   },
   "source": [
    "### La méthode `.extend()`\n",
    "\n",
    "La méthode `.extend()` permet d'ajouter plusieurs éléments à la fin d'une liste."
   ]
  },
  {
   "cell_type": "code",
   "execution_count": 59,
   "metadata": {
    "slideshow": {
     "slide_type": "fragment"
    }
   },
   "outputs": [
    {
     "name": "stdout",
     "output_type": "stream",
     "text": [
      "['Paris', 'Berlin', 'Madrid', 'Athènes', 'Zagreb', 'Rome', 'Bruxelles', 'Oslo']\n"
     ]
    }
   ],
   "source": [
    "capitales = [\"Paris\", \"Berlin\", \"Madrid\", \"Athènes\", \"Zagreb\", \"Rome\"]\n",
    "capitales.extend([\"Bruxelles\", \"Oslo\"])\n",
    "print(capitales)"
   ]
  },
  {
   "cell_type": "markdown",
   "metadata": {
    "slideshow": {
     "slide_type": "subslide"
    }
   },
   "source": [
    "### Concaténer deux listes\n",
    "\n",
    "On peut concaténer deux listes avec l'opérateur `+`."
   ]
  },
  {
   "cell_type": "code",
   "execution_count": 60,
   "metadata": {
    "slideshow": {
     "slide_type": "fragment"
    }
   },
   "outputs": [
    {
     "name": "stdout",
     "output_type": "stream",
     "text": [
      "['Paris', 'Berlin', 'Madrid', 'Athènes', 'Zagreb', 'Rome', 'Bruxelles', 'Oslo']\n",
      "['Paris', 'Berlin', 'Madrid', 'Athènes', 'Zagreb', 'Rome']\n"
     ]
    }
   ],
   "source": [
    "capitales1 = [\"Paris\", \"Berlin\", \"Madrid\", \"Athènes\", \"Zagreb\", \"Rome\"]\n",
    "capitales2 = [\"Bruxelles\", \"Oslo\"]\n",
    "\n",
    "print(capitales1 + capitales2)\n",
    "print(capitales1)  "
   ]
  },
  {
   "cell_type": "markdown",
   "metadata": {
    "slideshow": {
     "slide_type": "subslide"
    }
   },
   "source": [
    "### La méthode `.insert()`\n",
    "\n",
    "La méthode `.insert()` permet d'insérer un élément à une position (indice) concrete."
   ]
  },
  {
   "cell_type": "code",
   "execution_count": 61,
   "metadata": {
    "slideshow": {
     "slide_type": "fragment"
    }
   },
   "outputs": [
    {
     "name": "stdout",
     "output_type": "stream",
     "text": [
      "['Paris', 'Lisbonne', 'Berlin', 'Madrid', 'Athènes', 'Zagreb', 'Rome']\n"
     ]
    }
   ],
   "source": [
    "capitales = [\"Paris\", \"Berlin\", \"Madrid\", \"Athènes\", \"Zagreb\", \"Rome\"]\n",
    "capitales.insert(1,\"Lisbonne\")\n",
    "print(capitales)\n"
   ]
  },
  {
   "cell_type": "markdown",
   "metadata": {
    "slideshow": {
     "slide_type": "subslide"
    }
   },
   "source": [
    "### L'instruction `del()` et la méthode `.remove()`\n",
    "\n",
    "L'instruction `del()` permet de supprimer un élément de la liste à un indice donné."
   ]
  },
  {
   "cell_type": "code",
   "execution_count": 62,
   "metadata": {
    "slideshow": {
     "slide_type": "fragment"
    }
   },
   "outputs": [
    {
     "name": "stdout",
     "output_type": "stream",
     "text": [
      "['Paris', 'Madrid', 'Athènes', 'Zagreb', 'Rome']\n"
     ]
    }
   ],
   "source": [
    "capitales = [\"Paris\", \"Berlin\", \"Madrid\", \"Athènes\", \"Zagreb\", \"Rome\"]\n",
    "del capitales[1]\n",
    "print(capitales)"
   ]
  },
  {
   "cell_type": "markdown",
   "metadata": {
    "slideshow": {
     "slide_type": "subslide"
    }
   },
   "source": [
    "La méthode `.remove()` permet de supprimer un élément de la liste à partir de sa valeur.\n",
    "\n",
    "* Ex. `liste.remove(\"5.5\")` supprime la valeur 5.5 de la liste."
   ]
  },
  {
   "cell_type": "code",
   "execution_count": 63,
   "metadata": {
    "slideshow": {
     "slide_type": "fragment"
    }
   },
   "outputs": [
    {
     "name": "stdout",
     "output_type": "stream",
     "text": [
      "['Paris', 'Berlin', 'Athènes', 'Zagreb', 'Rome']\n"
     ]
    }
   ],
   "source": [
    "capitales = [\"Paris\", \"Berlin\", \"Madrid\", \"Athènes\", \"Zagreb\", \"Rome\"]\n",
    "capitales.remove(\"Madrid\")\n",
    "print(capitales)"
   ]
  },
  {
   "cell_type": "code",
   "execution_count": 64,
   "metadata": {
    "slideshow": {
     "slide_type": "fragment"
    }
   },
   "outputs": [
    {
     "name": "stdout",
     "output_type": "stream",
     "text": [
      "[1, 3, 3, 5, 4, 6, 7, 3]\n",
      "[1, 3, 5, 4, 6, 7, 3]\n"
     ]
    }
   ],
   "source": [
    "nombres = [1, 3, 3, 5, 4, 6, 7, 3]\n",
    "print(nombres)\n",
    "nombres.remove(3)\n",
    "print(nombres)"
   ]
  },
  {
   "cell_type": "markdown",
   "metadata": {
    "slideshow": {
     "slide_type": "slide"
    }
   },
   "source": [
    "### Les méthodes `.sort()`, `.reverse()` et `.count()`\n",
    "\n",
    "La méthode `.sort()` permet de trier une liste."
   ]
  },
  {
   "cell_type": "code",
   "execution_count": 65,
   "metadata": {
    "slideshow": {
     "slide_type": "fragment"
    }
   },
   "outputs": [
    {
     "name": "stdout",
     "output_type": "stream",
     "text": [
      "[1, 3, 4, 5, 7, 9, 10]\n"
     ]
    }
   ],
   "source": [
    "nombres = [5, 3, 7, 4, 10, 9, 1]\n",
    "nombres.sort()\n",
    "print(nombres)"
   ]
  },
  {
   "cell_type": "markdown",
   "metadata": {
    "slideshow": {
     "slide_type": "subslide"
    }
   },
   "source": [
    "La méthode `.reverse()`permet d'inverser une liste."
   ]
  },
  {
   "cell_type": "code",
   "execution_count": 66,
   "metadata": {
    "slideshow": {
     "slide_type": "fragment"
    }
   },
   "outputs": [
    {
     "name": "stdout",
     "output_type": "stream",
     "text": [
      "[1, 9, 10, 4, 7, 3, 5]\n"
     ]
    }
   ],
   "source": [
    "nombres = [5, 3, 7, 4, 10, 9, 1]\n",
    "nombres.reverse()\n",
    "print(nombres)"
   ]
  },
  {
   "cell_type": "markdown",
   "metadata": {
    "slideshow": {
     "slide_type": "subslide"
    }
   },
   "source": [
    "La méthode `.count()` permet de compter le nombre d'apparitions d'un élément dans une liste."
   ]
  },
  {
   "cell_type": "code",
   "execution_count": 67,
   "metadata": {
    "slideshow": {
     "slide_type": "fragment"
    }
   },
   "outputs": [
    {
     "name": "stdout",
     "output_type": "stream",
     "text": [
      "5\n",
      "3\n"
     ]
    }
   ],
   "source": [
    "nombres = [1,3,3,6,2,5,7,2,3,4,3,2,3]\n",
    "print(nombres.count(3))\n",
    "print(nombres.count(2))"
   ]
  },
  {
   "cell_type": "markdown",
   "metadata": {
    "slideshow": {
     "slide_type": "slide"
    }
   },
   "source": [
    "**Remarques sur des méthodes associées aux listes.**\n",
    "\n",
    "* Les méthodes `.append()`, `.extend()`, `.sort()`, `reverse()` etc. modifient la liste mais ne renvoient rien (pas d'objet qu'on peut récupérer dans une variable.\n",
    "* On peut voir ces méthodes commes des fonctions qui font une action mais ne renvoient rien (`None`)."
   ]
  },
  {
   "cell_type": "code",
   "execution_count": 68,
   "metadata": {
    "slideshow": {
     "slide_type": "fragment"
    }
   },
   "outputs": [
    {
     "name": "stdout",
     "output_type": "stream",
     "text": [
      "[1, 2, 3, 4]\n",
      "None\n"
     ]
    }
   ],
   "source": [
    "liste = [1, 2, 3]\n",
    "liste2 = liste.append(4)\n",
    "print(liste)\n",
    "print(liste2)"
   ]
  },
  {
   "cell_type": "markdown",
   "metadata": {
    "slideshow": {
     "slide_type": "slide"
    }
   },
   "source": [
    "**Exercice :** Soit la liste de nombres `[4, 13, 42, 27, 31, 17, 21]`. Trier les nombres de cette liste par ordre croissant, sans utiliser la fonction `sort()` et stocker le résultat dans une nouvelle liste. Les fonctions et méthodes `min()`, `.append()` et `.remove()` vous seront utiles. "
   ]
  },
  {
   "cell_type": "code",
   "execution_count": 69,
   "metadata": {
    "slideshow": {
     "slide_type": "notes"
    }
   },
   "outputs": [
    {
     "name": "stdout",
     "output_type": "stream",
     "text": [
      "[4, 13, 17, 21, 27, 31, 42]\n"
     ]
    }
   ],
   "source": [
    "liste = [4, 13, 42, 27, 31, 17, 21]\n",
    "liste_triee = []\n",
    "\n",
    "while liste != [] :\n",
    "    m = min(liste)\n",
    "    liste_triee.append(m)\n",
    "    liste.remove(m)\n",
    "print(liste_triee)"
   ]
  },
  {
   "cell_type": "markdown",
   "metadata": {
    "slideshow": {
     "slide_type": "slide"
    }
   },
   "source": [
    "**Exercice:** Compléter la fonction `compter_negatives()` qui prend en argument une liste des nombres et renvoie le nombre d'entrées négatives. Faites cela de deux façon différentes, une en utilisant une boucle et une sans."
   ]
  },
  {
   "cell_type": "code",
   "execution_count": 70,
   "metadata": {
    "slideshow": {
     "slide_type": "notes"
    }
   },
   "outputs": [
    {
     "data": {
      "text/plain": [
       "3"
      ]
     },
     "execution_count": 70,
     "metadata": {},
     "output_type": "execute_result"
    }
   ],
   "source": [
    "def compter_negatives(nombres) :\n",
    "    \"\"\"Renvoie le nombre d'éléments < 0 de la liste passée en paramètre. \"\"\"\n",
    "    compteur = 0\n",
    "    for i in range(len(nombres)) :\n",
    "        if(nombres[i] < 0) :\n",
    "            compteur += 1\n",
    "    return compteur\n",
    "\n",
    "compter_negatives([3, -1, 1.5, 5, -6.3, -7.9, 2])"
   ]
  },
  {
   "cell_type": "code",
   "execution_count": 71,
   "metadata": {
    "slideshow": {
     "slide_type": "notes"
    }
   },
   "outputs": [
    {
     "data": {
      "text/plain": [
       "3"
      ]
     },
     "execution_count": 71,
     "metadata": {},
     "output_type": "execute_result"
    }
   ],
   "source": [
    "def compter_negatives(nombres) :\n",
    "    \"\"\"Renvoie le nombre d'éléments < 0 de la liste passée en paramètre. \"\"\"\n",
    "    nombres.append(0)\n",
    "    nombres.sort()\n",
    "    return nombres.index(0)\n",
    "\n",
    "compter_negatives([3, -1, 1.5, 5, -6.3, -7.9, 2])"
   ]
  },
  {
   "cell_type": "markdown",
   "metadata": {
    "slideshow": {
     "slide_type": "slide"
    }
   },
   "source": [
    "### La fonction `sorted()`\n",
    "\n",
    "* Comme on vient de voir, la méthode `sort()` modifie la liste sur laquelle cette méthode est appliquée. Si on souhaite créer une nouvelle liste, qui sera la version *triée* de la première, on peut utiliser la fonction `sorted()` "
   ]
  },
  {
   "cell_type": "code",
   "execution_count": 72,
   "metadata": {
    "slideshow": {
     "slide_type": "fragment"
    }
   },
   "outputs": [
    {
     "name": "stdout",
     "output_type": "stream",
     "text": [
      "[1, 2, 3, 5, 7, 14]\n"
     ]
    }
   ],
   "source": [
    "L = [3, 5, 1, 7, 14, 2]\n",
    "L2 = sorted(L)\n",
    "print(L2)"
   ]
  },
  {
   "cell_type": "markdown",
   "metadata": {
    "slideshow": {
     "slide_type": "fragment"
    }
   },
   "source": [
    "On peut également préciser si on souhaite trier selon un ordre *croissant* ou *décroissant*, avec le paramètre `reverse`. Par défaut, c'est l'ordre croissant qui est pris."
   ]
  },
  {
   "cell_type": "code",
   "execution_count": 73,
   "metadata": {
    "slideshow": {
     "slide_type": "fragment"
    }
   },
   "outputs": [
    {
     "name": "stdout",
     "output_type": "stream",
     "text": [
      "[1, 2, 3, 5, 7, 14]\n",
      "[14, 7, 5, 3, 2, 1]\n"
     ]
    }
   ],
   "source": [
    "L2 = sorted(L, reverse=False)\n",
    "print(L2)\n",
    "\n",
    "L2 = sorted(L, reverse=True)\n",
    "print(L2)"
   ]
  },
  {
   "cell_type": "markdown",
   "metadata": {
    "slideshow": {
     "slide_type": "subslide"
    }
   },
   "source": [
    "## Utiliser la méthode `.copy()`."
   ]
  },
  {
   "cell_type": "code",
   "execution_count": 74,
   "metadata": {
    "slideshow": {
     "slide_type": "fragment"
    }
   },
   "outputs": [
    {
     "name": "stdout",
     "output_type": "stream",
     "text": [
      "[1, 2, 3, 4, 5, 6]\n",
      "[1, 2, 3, 4, 5, 6, 7]\n",
      "[1, 2, 3, 4, 5, 6]\n"
     ]
    }
   ],
   "source": [
    "L1 = [1, 2, 3, 4, 5, 6]\n",
    "L2 = L1.copy()\n",
    "print(L2)\n",
    "\n",
    "L2.append(7)\n",
    "print(L2)\n",
    "print(L1)"
   ]
  },
  {
   "cell_type": "markdown",
   "metadata": {
    "slideshow": {
     "slide_type": "slide"
    }
   },
   "source": [
    "## Test d’appartenance\n",
    "\n",
    "On peut facilement tester l'appartenance d'un élément dans une liste avec l'opérateur `in`."
   ]
  },
  {
   "cell_type": "code",
   "execution_count": 75,
   "metadata": {
    "slideshow": {
     "slide_type": "fragment"
    }
   },
   "outputs": [
    {
     "name": "stdout",
     "output_type": "stream",
     "text": [
      "True\n",
      "False\n",
      "True\n"
     ]
    }
   ],
   "source": [
    "nombres = [1, 3, 5, 7, 9, 11]\n",
    "print(3 in nombres)\n",
    "print(2 in nombres)\n",
    "print(5 in nombres and 7 in nombres)"
   ]
  },
  {
   "cell_type": "markdown",
   "metadata": {
    "slideshow": {
     "slide_type": "fragment"
    }
   },
   "source": [
    "En combinant avec le mot-clé `not` on peut vérifier si un élément est absent d'une liste."
   ]
  },
  {
   "cell_type": "code",
   "execution_count": 76,
   "metadata": {
    "slideshow": {
     "slide_type": "fragment"
    }
   },
   "outputs": [
    {
     "data": {
      "text/plain": [
       "True"
      ]
     },
     "execution_count": 76,
     "metadata": {},
     "output_type": "execute_result"
    }
   ],
   "source": [
    "4 not in nombres"
   ]
  },
  {
   "cell_type": "markdown",
   "metadata": {
    "slideshow": {
     "slide_type": "subslide"
    }
   },
   "source": [
    "**Exercice** : Compléter la fonction suivante qui prend en entrée deux chaînes de caractères et qui renvoie une liste contenant les mots communs de ces deux chaînes."
   ]
  },
  {
   "cell_type": "code",
   "execution_count": 77,
   "metadata": {
    "slideshow": {
     "slide_type": "notes"
    }
   },
   "outputs": [
    {
     "name": "stdout",
     "output_type": "stream",
     "text": [
      "Les mots communs sont : ['Python', 'est']\n"
     ]
    }
   ],
   "source": [
    "def motsCommuns(mot1, mot2) :\n",
    "    \"\"\" Fonction qui prend en entrée deux chaînes de caractères et renvoie une liste contenant\n",
    "        les mots communs de ces deux chaînes.\"\"\"\n",
    "    \n",
    "    # La méthode .split() convertit une chaîne en une liste de mots.\n",
    "    liste1 = mot1.split()\n",
    "    liste2 = mot2.split()\n",
    "    \n",
    "   \n",
    "    listeCommune = []\n",
    "    # Compléter\n",
    "    for a in liste1 :\n",
    "        if a in liste2 :\n",
    "            listeCommune.append(a)\n",
    "            \n",
    "    return listeCommune\n",
    "    \n",
    "    \n",
    "listeMotsCommuns = motsCommuns(\"Python est un langage de programmation sympa\", \"Programmer en Python est facile\")\n",
    "print(\"Les mots communs sont :\", listeMotsCommuns)"
   ]
  },
  {
   "cell_type": "markdown",
   "metadata": {
    "slideshow": {
     "slide_type": "slide"
    }
   },
   "source": [
    "## Ensembles \n",
    "\n",
    "Un **ensemble (set)** est une collection d'éléments ne contenant pas de doublons.\n",
    "\n",
    "**Exemple:** $A = (1, 3, 10, 5, 2)$ est un ensemble, tandis que $B = (1, 10, 3, 3, 5, 2, 1)$ n'en est pas un.\n",
    "\n",
    "Python permet de créer des objets de type `set`.\n",
    "\n",
    "* Un `set` n'est ni **ordonné**, ni **modifiable**.\n",
    "\n",
    "* On utilise des `{}` pour créer un nouveau `set`.\n"
   ]
  },
  {
   "cell_type": "code",
   "execution_count": 78,
   "metadata": {
    "slideshow": {
     "slide_type": "fragment"
    }
   },
   "outputs": [
    {
     "name": "stdout",
     "output_type": "stream",
     "text": [
      "{1, 2, 3, 4, 5}\n",
      "<class 'set'>\n"
     ]
    }
   ],
   "source": [
    "s = {1, 2, 3, 4, 5}\n",
    "print(s)\n",
    "print(type(s))"
   ]
  },
  {
   "cell_type": "markdown",
   "metadata": {
    "slideshow": {
     "slide_type": "subslide"
    }
   },
   "source": [
    "La fonction `set()` permet de générer un ensemble à partir de n'importe quel objet iterable."
   ]
  },
  {
   "cell_type": "code",
   "execution_count": 79,
   "metadata": {
    "slideshow": {
     "slide_type": "fragment"
    }
   },
   "outputs": [
    {
     "data": {
      "text/plain": [
       "{1, 3, 4, 5}"
      ]
     },
     "execution_count": 79,
     "metadata": {},
     "output_type": "execute_result"
    }
   ],
   "source": [
    "# À partir d'une liste\n",
    "s = set([1, 3, 4, 5, 4, 3])\n",
    "s"
   ]
  },
  {
   "cell_type": "code",
   "execution_count": 80,
   "metadata": {
    "slideshow": {
     "slide_type": "fragment"
    }
   },
   "outputs": [
    {
     "data": {
      "text/plain": [
       "{0, 1, 2, 3, 4, 5, 6, 7, 8, 9}"
      ]
     },
     "execution_count": 80,
     "metadata": {},
     "output_type": "execute_result"
    }
   ],
   "source": [
    "# À partir de range()\n",
    "s = set(range(10))\n",
    "s"
   ]
  },
  {
   "cell_type": "code",
   "execution_count": 81,
   "metadata": {
    "slideshow": {
     "slide_type": "fragment"
    }
   },
   "outputs": [
    {
     "data": {
      "text/plain": [
       "{'V', 'a', 'e', 'i', 'l', 'r', 's'}"
      ]
     },
     "execution_count": 81,
     "metadata": {},
     "output_type": "execute_result"
    }
   ],
   "source": [
    "# À partir d'une chaîne de caractères\n",
    "s = set(\"Versailles\")\n",
    "s"
   ]
  },
  {
   "cell_type": "markdown",
   "metadata": {
    "slideshow": {
     "slide_type": "subslide"
    }
   },
   "source": [
    "Un `set` est **itérable** ..."
   ]
  },
  {
   "cell_type": "code",
   "execution_count": 82,
   "metadata": {
    "slideshow": {
     "slide_type": "fragment"
    }
   },
   "outputs": [
    {
     "name": "stdout",
     "output_type": "stream",
     "text": [
      "0\n",
      "10\n",
      "5\n",
      "15\n"
     ]
    }
   ],
   "source": [
    "s = {0, 5, 10, 15}\n",
    "for element in s :\n",
    "    print(element)"
   ]
  },
  {
   "cell_type": "markdown",
   "metadata": {
    "slideshow": {
     "slide_type": "fragment"
    }
   },
   "source": [
    "... mais pas **ordonné.** Impossible donc de récupérer un élément par sa position."
   ]
  },
  {
   "cell_type": "code",
   "execution_count": 83,
   "metadata": {
    "slideshow": {
     "slide_type": "fragment"
    }
   },
   "outputs": [
    {
     "ename": "TypeError",
     "evalue": "'set' object is not subscriptable",
     "output_type": "error",
     "traceback": [
      "\u001b[1;31m---------------------------------------------------------------------------\u001b[0m",
      "\u001b[1;31mTypeError\u001b[0m                                 Traceback (most recent call last)",
      "\u001b[1;32m~\\AppData\\Local\\Temp/ipykernel_30368/2635755408.py\u001b[0m in \u001b[0;36m<module>\u001b[1;34m\u001b[0m\n\u001b[1;32m----> 1\u001b[1;33m \u001b[0ms\u001b[0m\u001b[1;33m[\u001b[0m\u001b[1;36m2\u001b[0m\u001b[1;33m]\u001b[0m\u001b[1;33m\u001b[0m\u001b[1;33m\u001b[0m\u001b[0m\n\u001b[0m",
      "\u001b[1;31mTypeError\u001b[0m: 'set' object is not subscriptable"
     ]
    }
   ],
   "source": [
    "s[2]"
   ]
  },
  {
   "cell_type": "markdown",
   "metadata": {
    "slideshow": {
     "slide_type": "subslide"
    }
   },
   "source": [
    "Les `sets` sont très pratiques pour *supprimer des doublons*.\n",
    "\n",
    "**Exercice** : Écrire une fonction qui prend en paramètre une liste et renvoie une nouvelle liste, égale à celle passée en paramètre mais sans les doublons. "
   ]
  },
  {
   "cell_type": "code",
   "execution_count": 84,
   "metadata": {
    "slideshow": {
     "slide_type": "notes"
    }
   },
   "outputs": [
    {
     "name": "stdout",
     "output_type": "stream",
     "text": [
      "[1, 3, 5, 6, 7]\n"
     ]
    }
   ],
   "source": [
    "def supprime_doublons(liste) :\n",
    "    return list(set(liste))\n",
    "\n",
    "nouvelle_liste = supprime_doublons([1, 3, 3, 5, 6, 7, 3, 1])\n",
    "print(nouvelle_liste)"
   ]
  },
  {
   "cell_type": "markdown",
   "metadata": {
    "slideshow": {
     "slide_type": "slide"
    }
   },
   "source": [
    "**Exercice :** Écrire une fonction qui prend en entrée une chaîne de caractères et compte combien de lettres sont présentes dans la chaîne et combien de fois chaque lettre y apparaît. La fonction doit renvoyer une liste contenant des couples `[lettre, nb_apparition]`."
   ]
  },
  {
   "cell_type": "code",
   "execution_count": 85,
   "metadata": {
    "slideshow": {
     "slide_type": "notes"
    }
   },
   "outputs": [
    {
     "name": "stdout",
     "output_type": "stream",
     "text": [
      "[['m', 1], ['r', 2], ['t', 1], ['a', 5], ['b', 2], ['c', 1]]\n"
     ]
    }
   ],
   "source": [
    "def compteur_lettres(chaine) :\n",
    "    \"\"\" Renvoie une liste de couples (lettre, nb_apparition), pour indiquer combien de fois est\n",
    "        présente chaque lettre\"\"\"\n",
    "    liste_compteur = []\n",
    "    s = set(chaine)\n",
    "    for e in s :\n",
    "        liste_compteur.append([e, chaine.count(e)])\n",
    "    print(liste_compteur)\n",
    "        \n",
    "ma_chaine = 'abracatambra'\n",
    "compteur_lettres(ma_chaine)"
   ]
  },
  {
   "cell_type": "markdown",
   "metadata": {
    "slideshow": {
     "slide_type": "slide"
    }
   },
   "source": [
    "Les ensembles permettent d'effectuer des opérations mathématiques telles que l'*union*, l'*intersection*, la *différence* ou la *différence symétrique*.\n",
    "\n",
    "**Exemple:** $A = \\{0, 1, 2, 3, 4\\}$, $B = \\{2, 3, 4, 5\\}$\n",
    "\n",
    "* $A\\cup B := \\{x \\in A \\text{ ou } x\\in B\\} = \\{0, 1, 2, 3, 4, 5\\}$\n",
    "* $A\\cap B := \\{x \\in A \\text{ et } x\\in B\\} = \\{2, 3, 4\\}$ \n",
    "* $A\\setminus B := \\{x \\in A \\text{ et } x \\not \\in B\\} = \\{0, 1\\}$\n",
    "* $A\\triangle B := \\{x \\in A\\cup B \\text{ et } x \\not \\in A\\cap B\\} = \\{0, 1, 5\\}$"
   ]
  },
  {
   "cell_type": "code",
   "execution_count": 86,
   "metadata": {
    "slideshow": {
     "slide_type": "subslide"
    }
   },
   "outputs": [
    {
     "name": "stdout",
     "output_type": "stream",
     "text": [
      "{'u', 'e', 's', 'h', 't', 'a', 'c'}\n",
      "{'u', 'e', 's', 'h', 'r', 'd', 'i', 'a', 'c'}\n"
     ]
    }
   ],
   "source": [
    "chaine1 = 'chaussette'\n",
    "chaine2 = 'archiduchesse'\n",
    "\n",
    "a = set(chaine1)\n",
    "b = set(chaine2)\n",
    "\n",
    "print(a)\n",
    "print(b)"
   ]
  },
  {
   "cell_type": "markdown",
   "metadata": {
    "slideshow": {
     "slide_type": "fragment"
    }
   },
   "source": [
    "Que font les instructions suivantes ?"
   ]
  },
  {
   "cell_type": "code",
   "execution_count": 87,
   "metadata": {
    "slideshow": {
     "slide_type": "fragment"
    }
   },
   "outputs": [
    {
     "data": {
      "text/plain": [
       "{'a', 'c', 'd', 'e', 'h', 'i', 'r', 's', 't', 'u'}"
      ]
     },
     "execution_count": 87,
     "metadata": {},
     "output_type": "execute_result"
    }
   ],
   "source": [
    "a | b"
   ]
  },
  {
   "cell_type": "code",
   "execution_count": 88,
   "metadata": {
    "slideshow": {
     "slide_type": "fragment"
    }
   },
   "outputs": [
    {
     "data": {
      "text/plain": [
       "{'a', 'c', 'e', 'h', 's', 'u'}"
      ]
     },
     "execution_count": 88,
     "metadata": {},
     "output_type": "execute_result"
    }
   ],
   "source": [
    "a & b"
   ]
  },
  {
   "cell_type": "code",
   "execution_count": 89,
   "metadata": {
    "slideshow": {
     "slide_type": "subslide"
    }
   },
   "outputs": [
    {
     "data": {
      "text/plain": [
       "{'t'}"
      ]
     },
     "execution_count": 89,
     "metadata": {},
     "output_type": "execute_result"
    }
   ],
   "source": [
    "a - b"
   ]
  },
  {
   "cell_type": "code",
   "execution_count": 90,
   "metadata": {
    "slideshow": {
     "slide_type": "fragment"
    }
   },
   "outputs": [
    {
     "data": {
      "text/plain": [
       "{'d', 'i', 'r', 't'}"
      ]
     },
     "execution_count": 90,
     "metadata": {},
     "output_type": "execute_result"
    }
   ],
   "source": [
    "a ^ b"
   ]
  },
  {
   "cell_type": "markdown",
   "metadata": {
    "slideshow": {
     "slide_type": "fragment"
    }
   },
   "source": [
    "* `a | b`: $A\\cup B$\n",
    "* `a & b`: $A\\cap B$\n",
    "* `a - b`: $A \\setminus B$\n",
    "* `a ^ b`: $A\\triangle B$"
   ]
  },
  {
   "cell_type": "markdown",
   "metadata": {
    "slideshow": {
     "slide_type": "slide"
    }
   },
   "source": [
    "## Dictionnaires\n",
    "\n",
    "Un dictionnaire est une structure de données, dont les éléments sont accessibles grâce à une *clé*."
   ]
  },
  {
   "cell_type": "code",
   "execution_count": 91,
   "metadata": {
    "slideshow": {
     "slide_type": "fragment"
    }
   },
   "outputs": [],
   "source": [
    "dico_notes = {\"Gaëtan\" : 14, \"Laure\" : 9, \"Kenza\" : 17, \"Gabriel\" : 14}"
   ]
  },
  {
   "cell_type": "markdown",
   "metadata": {
    "slideshow": {
     "slide_type": "fragment"
    }
   },
   "source": [
    "* Pour construire un dictionnaire, on utilise des accolades `{}`.\n",
    "* Un élément d'un dictionnaire est un couple `cle: valeur`.\n",
    "* On accède à une **valeur** du dictionnaire en utilisant la **clé** :"
   ]
  },
  {
   "cell_type": "code",
   "execution_count": 92,
   "metadata": {
    "slideshow": {
     "slide_type": "fragment"
    }
   },
   "outputs": [
    {
     "data": {
      "text/plain": [
       "9"
      ]
     },
     "execution_count": 92,
     "metadata": {},
     "output_type": "execute_result"
    }
   ],
   "source": [
    "dico_notes[\"Laure\"]"
   ]
  },
  {
   "cell_type": "markdown",
   "metadata": {
    "slideshow": {
     "slide_type": "fragment"
    }
   },
   "source": [
    "* Dans un dictionnaire, les clés doivent être *uniques*, mais pas les valeurs.\n",
    "* Les clés peuvent être n'importe quel objet immuable (par ex. des `int` ou des `string`)"
   ]
  },
  {
   "cell_type": "markdown",
   "metadata": {
    "slideshow": {
     "slide_type": "subslide"
    }
   },
   "source": [
    "Il est facile de créer et modifier un dictionnaire."
   ]
  },
  {
   "cell_type": "code",
   "execution_count": 93,
   "metadata": {
    "slideshow": {
     "slide_type": "fragment"
    }
   },
   "outputs": [
    {
     "name": "stdout",
     "output_type": "stream",
     "text": [
      "{'Gaëtan': 12, 'Laure': 9, 'Kenza': 17, 'Gabriel': 14, 'Anne': 15}\n",
      "{\"L'auberge du Goëllo\": 22170, 'Café Menilmontant': 75011, 'Mamie Bigoude': 17000}\n"
     ]
    }
   ],
   "source": [
    "dico_notes = {\"Gaëtan\" : 14, \"Laure\" : 9, \"Kenza\" : 17, \"Gabriel\" : 14}\n",
    "\n",
    "# Changer une entrée existante\n",
    "dico_notes[\"Gaëtan\"] = 12\n",
    "\n",
    "# Ajouter une nouvelle entrée\n",
    "\n",
    "dico_notes[\"Anne\"] = 15\n",
    "\n",
    "print(dico_notes)\n",
    "\n",
    "# Créer un dictionnaire vide.\n",
    "\n",
    "dico_vide = {}\n",
    "\n",
    "# Utilisation du constructeur dict()\n",
    "dico_restos = dict([(\"L'auberge du Goëllo\", 22170), (\"Café Menilmontant\", 75011), (\"Mamie Bigoude\", 17000)])\n",
    "\n",
    "print(dico_restos)"
   ]
  },
  {
   "cell_type": "markdown",
   "metadata": {
    "slideshow": {
     "slide_type": "subslide"
    }
   },
   "source": [
    "### Comment parcourir un dictionnaire ?\n",
    "\n",
    " * Les clés et leurs valeurs peuvent être récupérées en même temps en utilisant la méthode `items()` :"
   ]
  },
  {
   "cell_type": "code",
   "execution_count": 94,
   "metadata": {
    "slideshow": {
     "slide_type": "fragment"
    }
   },
   "outputs": [
    {
     "name": "stdout",
     "output_type": "stream",
     "text": [
      "('Gaëtan', 14)\n",
      "('Laure', 9)\n",
      "('Kenza', 17)\n",
      "('Gabriel', 14)\n"
     ]
    }
   ],
   "source": [
    "dico_notes = {\"Gaëtan\" : 14, \"Laure\" : 9, \"Kenza\" : 17, \"Gabriel\" : 14}\n",
    "\n",
    "for i in dico_notes.items():\n",
    "    print(i)"
   ]
  }
 ],
 "metadata": {
  "interpreter": {
   "hash": "ac8670c340231d6f7714938eae3048d32d1692966e2ebe9007b5763411a361c1"
  },
  "kernelspec": {
   "display_name": "Python 3.9.7 64-bit ('l1-python': conda)",
   "name": "python3"
  },
  "language_info": {
   "codemirror_mode": {
    "name": "ipython",
    "version": 3
   },
   "file_extension": ".py",
   "mimetype": "text/x-python",
   "name": "python",
   "nbconvert_exporter": "python",
   "pygments_lexer": "ipython3",
   "version": "3.9.7"
  },
  "orig_nbformat": 4
 },
 "nbformat": 4,
 "nbformat_minor": 2
}
