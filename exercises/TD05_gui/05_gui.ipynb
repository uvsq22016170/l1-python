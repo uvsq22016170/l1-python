{
 "cells": [
  {
   "cell_type": "markdown",
   "metadata": {},
   "source": [
    "# TD 5: Interface graphique\n",
    "\n",
    "\n",
    "Ce [site](http://tkinter.fdex.eu/index.html) recense les méthodes utilisables dans les différents widgets, et permet de retrouver rapidement des informations à leur sujet.\n"
   ]
  },
  {
   "cell_type": "markdown",
   "metadata": {},
   "source": [
    "## 1. Prise en main\n",
    "\n",
    "---\n",
    "\n",
    "1. Recopier le contenu du fichier `exemple03.py` depuis le répertoire `examples\\gui` du projet `L1-PYHTON` dans le fichier `debut.py`.\n",
    "\n",
    "2. Exécuter ce programme et comprendre ce qu'il fait.\n",
    "\n",
    "3. Retirer la condition \n",
    "```python\n",
    "if __name__ == '__main__':\n",
    "```\n",
    "et remplacer la fonction  `canvas.pack()` par la fonction de positionnement des widgets  que l'on a vue en cours. Puis testez votre programme.\n",
    "\n",
    "4. Importer la librairie `tkinter` avec l'instruction\n",
    "```python\n",
    "import tkinter as tk\n",
    "```\n",
    "au lieu de \n",
    "```python\n",
    "from tkinter import *\n",
    "```\n",
    "et modifier le programme pour qu'il fonctionne avec cette nouvelle manière de faire.\n",
    "\n",
    "5. Modifier le programme pour que la ligne qui s'affiche devienne verticale tout en conservant les cercles à ses extrémités.\n"
   ]
  },
  {
   "cell_type": "markdown",
   "metadata": {},
   "source": [
    "---\n",
    "\n",
    "## 2. Dessins aléatoires\n",
    "\n",
    "Cet exercice est à traiter dans un script `dessin.py`.\n",
    "\n",
    "\n",
    "1. Créer la fenêtre graphique correspondant à la figure suivante:\n",
    "\n",
    "![](images/mon_dessin.png)\n",
    "\n",
    "\n",
    "c'est-à-dire que la fenêtre est composée de:\n",
    "* 4 widgets Button\n",
    "* 1 widget Canvas dont le fond est noir\n",
    "* titre à la fenêtre\n",
    "\n",
    "**Indication:** pour placer un widget sur plusieurs lignes (resp. colonnes), il faut utiliser le paramètre `rowspan` (resp. `columnspan`).\n"
   ]
  },
  {
   "cell_type": "markdown",
   "metadata": {},
   "source": [
    "2. Modifier le style par défaut des boutons, par exemple, en modifiant les couleurs, en ajoutant des marges, en changeant la taille de la police. Pour savoir ce qu'il est possible de faire, consultez le site indiqué au début du sujet."
   ]
  },
  {
   "cell_type": "markdown",
   "metadata": {},
   "source": [
    "3. Dans les paramètres de création du canevas, chercher comment augmenter l'épaisseur du bord du widget, et comment le mettre en relief. Puis faites le."
   ]
  },
  {
   "cell_type": "markdown",
   "metadata": {},
   "source": [
    "4. Ajouter un lien (paramètre `command` du widget Button) entre le bouton `Cercle` et une fonction qui affiche un disque de diamètre 100 en bleu à un endroit choisi au hasard dans le canevas. Le cercle doit être inclu intégralement dans le canevas."
   ]
  },
  {
   "cell_type": "markdown",
   "metadata": {},
   "source": [
    "5. Faites pareil pour le bouton `Carré` qui doit afficher un carré rouge de côté 100, et puis pour `Croix` qui doit afficher une croix jaune inscrite dans un carré de côté 100 (les carrés dont on parle ont leur cotés horizontaux et verticaux)."
   ]
  },
  {
   "cell_type": "markdown",
   "metadata": {},
   "source": [
    "6. Faire en sorte que le bouton `Choisir une couleur` demande une couleur à l'utilisateur dans le terminal. Ensuite, les objets qui s'affichent doivent être de cette couleur, qui peut être modifiée par l'utilisateur autant de fois qu'il le souhaite. Tant que l'utilisateur n'a pas choisi de couleur, la couleur est bleue. On rappelle les couleurs prédéfinies: white, black, red, green, blue, cyan, yellow."
   ]
  },
  {
   "cell_type": "code",
   "execution_count": 7,
   "metadata": {},
   "outputs": [],
   "source": [
    "import tkinter as tk\n",
    "import random as rd\n",
    "\n",
    "h = 500\n",
    "w = 500\n",
    "bw = 10\n",
    "couleur = \"blue\"\n",
    "\n",
    "def choix ():\n",
    "    global couleur\n",
    "    couleur = input(\"Entrez une couleur\")\n",
    "    \n",
    "def cercle ():\n",
    "    r = 100\n",
    "    x = rd.randint(bw, w - r - bw)\n",
    "    y = rd.randint(bw, h - r - bw)\n",
    "    canvas.create_oval((x, y), (x + 100, y + 100), fill = couleur)\n",
    "\n",
    "def carre ():\n",
    "    c = 100\n",
    "    x = rd.randint(10, w - c - bw)\n",
    "    y = rd.randint(10, h - c - bw)\n",
    "    canvas.create_rectangle((x, y), (x + c, y + c), fill = couleur)\n",
    "\n",
    "def croix ():\n",
    "    ll = 100\n",
    "    x = rd.randint(10, w - ll - bw)\n",
    "    y = rd.randint(10, h - ll - bw)\n",
    "    canvas.create_rectangle((x, y), (x + ll, y + ll), outline = couleur)\n",
    "    canvas.create_line((x, y), (x + ll, y + ll), fill = couleur)\n",
    "    canvas.create_line((x + ll, y), (x, y + ll), fill = couleur)\n",
    "\n",
    "racine = tk.Tk()\n",
    "racine.title(\"Mon dessin\")\n",
    "choix = tk.Button(racine, text=\"Choisir une couleur\", font = \"system\", activebackground = \"royalblue\", command = choix)\n",
    "cercle = tk.Button(racine, text=\"Cercle\", font = \"system\", activebackground = \"royalblue\", command = cercle)\n",
    "carre = tk.Button(racine, text=\"Carré\", font = \"system\", activebackground = \"royalblue\", command = carre)\n",
    "croix = tk.Button(racine, text=\"Croix\", font =\"system\", activebackground = \"royalblue\", command = croix)\n",
    "canvas = tk.Canvas(racine, bg=\"black\", borderwidth = bw, relief = \"ridge\", height=h, width=w)\n",
    "\n",
    "choix.grid(row = 0, column = 1, rowspan = 3)\n",
    "cercle.grid(row = 1, column = 0, rowspan = 3)\n",
    "carre.grid(row = 2, column = 0, rowspan = 3)\n",
    "croix.grid(row = 3, column = 0, rowspan = 3)\n",
    "canvas.grid(row = 3, column = 1, rowspan = 3)\n",
    "\n",
    "racine.mainloop()"
   ]
  },
  {
   "cell_type": "markdown",
   "metadata": {},
   "source": [
    "## 3. Cible en couleur\n",
    "\n",
    "---\n",
    "\n",
    "Dans un fichier `cible.py`, écrire le programme qui affiche la figure suivante:\n",
    "\n",
    "![](images/cible.png)\n",
    "\n",
    "Dans l'ordre les couleurs sont blue, green, black, yellow, magenta, red.\n",
    "Vous choisissez la taille d'image et le nombre de cercles que vous voulez. Mais le programme doit afficher une telle figure pour n'importe quelles valeurs choisies.\n"
   ]
  },
  {
   "cell_type": "code",
   "execution_count": 13,
   "metadata": {},
   "outputs": [],
   "source": [
    "import tkinter as tk\n",
    "\n",
    "h = 500\n",
    "w = 500\n",
    "\n",
    "racine = tk.Tk()\n",
    "racine.title(\"Cible\")\n",
    "canvas = tk.Canvas(racine, bg=\"black\", height=h, width=w)\n",
    "canvas.grid()\n",
    "for i in [(0, 6), (6, 12), (12, 18), (18, 24), (24, 30)] :\n",
    "    for j in range (i[0], i[1]) :\n",
    "        if j == i[0]:\n",
    "            couleur = \"blue\"\n",
    "        if j == i[0] + 1 :\n",
    "            couleur = \"green\"\n",
    "        if j == i[0] + 2 :\n",
    "            couleur = \"black\"\n",
    "        if j == i[0] + 3 :\n",
    "            couleur = \"yellow\"\n",
    "        if j == i[0] + 4 :\n",
    "            couleur = \"magenta\"\n",
    "        if j == i[0] + 5 :\n",
    "            couleur = \"red\"\n",
    "        canvas.create_oval((0 + 8 * j, 0 + 8 * j), (h - 8 * j, h - 8 * j), fill = couleur, outline = couleur)\n",
    "racine.mainloop()"
   ]
  },
  {
   "cell_type": "code",
   "execution_count": 14,
   "metadata": {},
   "outputs": [],
   "source": [
    "import tkinter as tk\n",
    "cote = 600\n",
    "racine = tk.Tk()\n",
    "canvas = tk.Canvas(racine, width=cote, height = cote, bg = \"black\")\n",
    "\n",
    "nb_cercle = 30\n",
    "canvas.grid()\n",
    "epaisseur = (cote//2)//nb_cercle\n",
    "couleurs = [\"blue\", \"green\", \"black\", \"yellow\", \"magenta\", \"red\"]\n",
    "\n",
    "for i in range(31):\n",
    "    canvas.create_oval(epaisseur*i, epaisseur*i, cote-epaisseur*i, cote-epaisseur*i, fill=couleurs[i%len(couleurs)])\n",
    "racine.mainloop()"
   ]
  },
  {
   "cell_type": "markdown",
   "metadata": {},
   "source": [
    "## 4. Couleurs\n",
    "\n",
    "---\n",
    "Les questions qui suivent sont à traiter dans un fichier `couleurs.py`.\n",
    "\n",
    "On rappelle que les couleurs sont codées par leur 3 composantes rouge, vert et bleu auxquelles on associe des valeurs comprises entre 0 et 255. La fonction suivante retourne une couleur dans le format attendu par Python à partir de ces 3 composantes.\n"
   ]
  },
  {
   "cell_type": "code",
   "execution_count": 36,
   "metadata": {},
   "outputs": [],
   "source": [
    "import tkinter as tk\n",
    "import random as rd\n",
    "\n",
    "h = 255\n",
    "w = 255\n",
    "\n",
    "def get_color(r, g, b):\n",
    "    \"\"\" Retourne une couleur à partir de ses composantes r, g, b entre 0 et 255\"\"\"\n",
    "    return '#{:02x}{:02x}{:02x}'.format(r, g, b)\n",
    "\n",
    "def draw_pixel(i, j, color):\n",
    "    canvas.create_rectangle((i,j), (i+1,j+1), fill = color, outline = color)\n",
    "\n",
    "def ecran_aleatoire():\n",
    "    for i in range (w + 1) :\n",
    "        for j in range (h + 1):\n",
    "            r = rd.randint(0, 255)\n",
    "            g = rd.randint(0, 255)\n",
    "            b = rd.randint(0, 255)\n",
    "            color = get_color(r, g, b)\n",
    "            draw_pixel(i, j, color)\n",
    "\n",
    "def degrade_gris():\n",
    "    c = 0\n",
    "    for i in range (h + 1):\n",
    "        for j in range (w + 1): \n",
    "            color = get_color(c, c, c)\n",
    "            draw_pixel(i, j, color)\n",
    "        c += 1\n",
    "    \n",
    "def degrade_2D():\n",
    "    r = 0\n",
    "    g = 0\n",
    "    for i in range(w + 1):\n",
    "        b = 0\n",
    "        for j in range(h + 1):\n",
    "            color = get_color(r, g, b)\n",
    "            draw_pixel(i, j, color)\n",
    "            b += 1\n",
    "        r += 1\n",
    "\n",
    "racine = tk.Tk()\n",
    "canvas = tk.Canvas(racine, bg=\"black\", height=h, width=w)\n",
    "alea = tk.Button(racine, text=\"Aléatoire\", font = \"system\", activebackground = \"royalblue\", command = ecran_aleatoire)\n",
    "degrade_g = tk.Button(racine, text=\"Dégradé gris\", font = \"system\", activebackground = \"royalblue\", command = degrade_gris)\n",
    "degrade_2D = tk.Button(racine, text=\"Dégradé 2D\", font = \"system\", activebackground = \"royalblue\", command = degrade_2D)\n",
    "canvas.grid(row = 1, column = 1, rowspan = 2)\n",
    "alea.grid(row = 0, column = 0, rowspan = 2)\n",
    "degrade_g.grid(row = 1, column = 0, rowspan = 2)\n",
    "degrade_2D.grid(row = 2, column = 0, rowspan = 2)\n",
    "#draw_pixel(128, 128, \"red\")\n",
    "racine.mainloop()\n"
   ]
  },
  {
   "cell_type": "markdown",
   "metadata": {},
   "source": [
    "Cette fonction est à recopier au début de votre programme pour pouvoir l'utiliser ensuite.\n",
    "\n",
    "1. Créer la fenêtre graphique suivante (on demande juste de conserver la disposition des widgets les uns par rapport aux autres):\n",
    "\n",
    "![](images/fenetre_couleur.png)\n",
    "\n",
    "La taille du canvas doit être 256x256.\n",
    "\n",
    "2. Ecrire la fonction\n",
    "\n",
    "```python\n",
    "def draw_pixel(i, j, color)\n",
    "```\n",
    "qui colorie le pixel `(i, j)` du canvas de la couleur color. La tester en allumant en blanc le pixel du milieu du canevas.\n",
    "\n",
    "3. Ecrire la fonction \n",
    "```python\n",
    "def ecran_aleatoire()\n",
    "```\n",
    "qui est appelée par le bouton `aleatoire` et qui remplit le canevas de manière à ce que chaque pixel soit d'une couleur choisie au hasard.\n",
    "\n",
    "3. Ecrire la fonction \n",
    "```python\n",
    "def degrade_gris()\n",
    "```\n",
    "qui affiche le dégradé de gris comme sur la figure suivante quand on clique sur le bouton correspondant:\n",
    "\n",
    "![](images/degrade_gris.png)\n",
    "\n",
    "4. Ecrire la fonction \n",
    "```python\n",
    "def degrade_2D()\n",
    "```\n",
    "qui affiche le dégradé de rouge et bleu comme sur la figure suivante quand on clique sur le bouton correspondant:\n",
    "\n",
    "![](images/degrade_rouge_bleu.png)\n",
    "\n",
    "\n",
    "\n"
   ]
  },
  {
   "cell_type": "markdown",
   "metadata": {},
   "source": [
    "## 5. Fonction undo\n",
    "\n",
    "---\n",
    "\n",
    "Reprendre le programme de l'exercice 2. On va le compléter en ajoutant la possibilité d'annuler des dessins qui ont été faits dans l'ordre inverse de leur création. Cette fonctionnalité est souvent présente dans les logiciels d'édition de texte ou d'image, par exemple dans VSCode dans le menu \"Edit\" de la barre de menu, ou bien en tapant CTRL+Z. Pour faire cela, on va utiliser une liste contenant tous les objets dessinés, et il suffira de les supprimer à partir de la fin de la liste.\n",
    "\n",
    "\n",
    "1. Dans le programme de l'exercice 2, ajouter un bouton \"Undo\" à côté du bouton \"Choisir une couleur\". Ce bouton doit être lié à la fonction `def undo()` que l'on écrira plus tard.\n",
    "\n",
    "2. Ajouter une variable globale appelée `objets`. Elle doit contenir une liste qui doit être initialisée vide. Ensuite, ajouter le code qui,  à chaque création d'objet (cercle, carré ou croix), l'ajoute à la liste. \n",
    "\n",
    "3. Ecrivez maintenant la fonction `undo()` en utilisant la méthode `.delete()` du canevas, et tester votre fonction.\n",
    "\n",
    "4. Faire en sorte que, si l'on clique sur \"Undo\" alors que le dessin est vide, aucune erreur n'est générée.\n",
    "\n",
    "5. Les croix posent un problème car il faut cliquer 2 fois sur \"Undo\" pour supprimer les 2 lignes. Afin d'améliorer notre fonction `undo()`, récupérer le type de l'objet à supprimer avec la méthode `.type(objet)` du canevas. Cette méthode retourne `\"line\"` si l'objet passé en argument est une ligne. Puis utiliser cette information pour ne pas avoir à cliquer 2 fois pour supprimer les croix. \n",
    "\n",
    "**Remarque:** en fait, il vaudrait mieux utiliser la possibilité d'utiliser des \"tags\" sur les objets pour pouvoir grouper les deux lignes d'une croix dans le même tag, et les supprimer ensemble.\n",
    "\n",
    "\n"
   ]
  },
  {
   "cell_type": "code",
   "execution_count": 125,
   "metadata": {},
   "outputs": [],
   "source": [
    "import tkinter as tk\n",
    "import random as rd\n",
    "\n",
    "h = 500\n",
    "w = 500\n",
    "bw = 10\n",
    "couleur = \"blue\"\n",
    "objets = []\n",
    "\n",
    "def choix ():\n",
    "    global couleur\n",
    "    couleur = input(\"Entrez une couleur\")\n",
    "    \n",
    "def cercle ():\n",
    "    global objets\n",
    "    r = 100\n",
    "    x = rd.randint(bw, w - r - bw)\n",
    "    y = rd.randint(bw, h - r - bw)\n",
    "    objets.append(canvas.create_oval((x, y), (x + 100, y + 100), fill = couleur))\n",
    "\n",
    "def carre ():\n",
    "    global objets\n",
    "    c = 100\n",
    "    x = rd.randint(10, w - c - bw)\n",
    "    y = rd.randint(10, h - c - bw)\n",
    "    objets.append(canvas.create_rectangle((x, y), (x + c, y + c), fill = couleur))\n",
    "\n",
    "def croix ():\n",
    "    global objets\n",
    "    ll = 100\n",
    "    x = rd.randint(10, w - ll - bw)\n",
    "    y = rd.randint(10, h - ll - bw)\n",
    "    objets.extend([canvas.create_line((x, y), (x + ll, y + ll), fill = couleur), canvas.create_line((x + ll, y), (x, y + ll), fill = couleur)])\n",
    "\n",
    "def undo ():\n",
    "    if len(objets) != 0:\n",
    "        if canvas.type(objets[-1]) == \"line\" :\n",
    "            for n in range (2):\n",
    "                canvas.delete(objets[-1])\n",
    "                del objets[-1]\n",
    "        else :\n",
    "            canvas.delete(objets[-1])\n",
    "            del objets[-1]\n",
    "\n",
    "racine = tk.Tk()\n",
    "racine.title(\"Mon dessin\")\n",
    "choix = tk.Button(racine, text=\"Choisir une couleur\", font = \"system\", activebackground = \"royalblue\", command = choix)\n",
    "cercle = tk.Button(racine, text = \"Cercle\", font = \"system\", activebackground = \"royalblue\", command = cercle)\n",
    "carre = tk.Button(racine, text = \"Carré\", font = \"system\", activebackground = \"royalblue\", command = carre)\n",
    "croix = tk.Button(racine, text = \"Croix\", font = \"system\", activebackground = \"royalblue\", command = croix)\n",
    "undo = tk.Button(racine, text = \"Undo\", font = \"system\", activebackground = \"royalblue\", command = undo)\n",
    "canvas = tk.Canvas(racine, bg = \"black\", borderwidth = bw, relief = \"ridge\", height=h, width=w)\n",
    "\n",
    "choix.grid(row = 0, column = 1, rowspan = 3)\n",
    "cercle.grid(row = 1, column = 0, rowspan = 3)\n",
    "carre.grid(row = 2, column = 0, rowspan = 3)\n",
    "croix.grid(row = 3, column = 0, rowspan = 3)\n",
    "undo.grid(row = 0, column = 2, rowspan = 3, columnspan = 2)\n",
    "canvas.grid(row = 3, column = 1, rowspan = 3, columnspan = 2)\n",
    "\n",
    "racine.mainloop()"
   ]
  },
  {
   "cell_type": "markdown",
   "metadata": {},
   "source": [
    "## 6. Avec des clics\n",
    "\n",
    "---\n",
    "\n",
    "Traiter cet exercice dans un fichier `clic.py`.\n",
    "\n",
    "1. Dans le fichier `clic1.py`, créer une fenêtre graphique qui contient un canevas de taille 500x500 et de couleur noire. Quand on clique sur le canevas, un pixel de couleur rouge s'affiche à l'endroit où l'on a cliqué.\n",
    "\n",
    "\n"
   ]
  },
  {
   "cell_type": "code",
   "execution_count": 131,
   "metadata": {},
   "outputs": [],
   "source": [
    "import tkinter as tk\n",
    "\n",
    "h = 500\n",
    "w = 500\n",
    "\n",
    "def pixel (event):\n",
    "    canvas.create_rectangle((event.x, event.y), (event.x+1, event.y+1), fill = \"red\", outline = \"red\")\n",
    "\n",
    "racine = tk.Tk()\n",
    "canvas = tk.Canvas(racine, bg = \"black\", height=h, width=w)\n",
    "racine.bind(\"<Button-1>\", pixel)\n",
    "canvas.grid()\n",
    "racine.mainloop()"
   ]
  },
  {
   "cell_type": "markdown",
   "metadata": {},
   "source": [
    "2. Copier le contenu du fichier `clic1.py` dans le fichier `clic2.py`. Modifier le fichier `clic2.py` de manière à faire les choses suivantes: \n",
    "    * afficher une ligne verticale en blanc qui sépare l'écran en 2 parties égales\n",
    "    * si l'utilisateur clique à gauche de la ligne afficher un cercle bleu et s'il est à droite, afficher un cercle rouge. Dans les deux cas, le cercle sera centré là où l'utilisateur a cliqué. Le rayon du cercle est 50."
   ]
  },
  {
   "cell_type": "code",
   "execution_count": 138,
   "metadata": {},
   "outputs": [],
   "source": [
    "import tkinter as tk\n",
    "\n",
    "h = 500\n",
    "w = 500\n",
    "\n",
    "def pixel (event):\n",
    "    if 0 <= event.x < w/2 :\n",
    "        canvas.create_oval((event.x + 50, event.y + 50), (event.x - 50, event.y - 50), fill = \"blue\", outline = \"blue\")\n",
    "    elif w/2 < event.x <= w :\n",
    "        canvas.create_oval((event.x + 50, event.y + 50), (event.x - 50, event.y - 50), fill = \"red\", outline = \"red\")\n",
    "\n",
    "racine = tk.Tk()\n",
    "canvas = tk.Canvas(racine, bg = \"black\", height=h, width=w)\n",
    "canvas.create_line((w/2, 0), (w/2, h), fill = \"white\")\n",
    "racine.bind(\"<Button-1>\", pixel)\n",
    "canvas.grid()\n",
    "racine.mainloop()"
   ]
  },
  {
   "cell_type": "markdown",
   "metadata": {},
   "source": [
    "3. Copier le contenu du fichier `clic2.py` dans le fichier `clic3.py`. Modifier le fichier `clic3.py` de manière à faire les choses suivantes: \n",
    "    * afficher une ligne verticale en blanc qui sépare l'écran en 2 parties égales\n",
    "    * à chaque fois que l'utilisateur a fait 2 clics, s'ils sont du même côté alors afficher une ligne bleue reliant les deux points où l'utilisateur a cliqué, sinon une ligne rouge. "
   ]
  },
  {
   "cell_type": "code",
   "execution_count": null,
   "metadata": {},
   "outputs": [],
   "source": [
    "import tkinter as tk\n",
    "\n",
    "h = 500\n",
    "w = 500\n",
    "\n",
    "def draw_line (event):\n",
    "    global nb_clic, point\n",
    "    if nb_clic == 0 :\n",
    "        nb_clic = 1\n",
    "        point = (event.x, event.y)\n",
    "\n",
    "racine = tk.Tk()\n",
    "canvas = tk.Canvas(racine, bg = \"black\", height=h, width=w)\n",
    "canvas.create_line((w/2, 0), (w/2, h), fill = \"white\")\n",
    "racine.bind(\"<Button-1>\", draw_line)\n",
    "canvas.grid()\n",
    "racine.mainloop()"
   ]
  },
  {
   "cell_type": "markdown",
   "metadata": {},
   "source": [
    "4. Copier le contenu du fichier `clic3.py` dans le fichier `clic4.py`. Modifier le fichier `clic4.py` de manière à faire les choses suivantes: \n",
    "    * dessiner un carré vide au centre de l'écran (taille et couleur au choix au choix)\n",
    "    * à chaque clic, le carré se remplit et se vide alternativement\n",
    "    * au bout de 10 clics, la fenêtre se ferme (utiliser la fonction `racine.destroy()`)"
   ]
  },
  {
   "cell_type": "markdown",
   "metadata": {},
   "source": [
    "5. Copier le contenu du fichier `clic4.py` dans le fichier `clic5.py`. Modifier le fichier `clic5.py` de manière à faire les choses suivantes: \n",
    "    * pour les 8 premiers clics de l'utilisateur, on affiche un cercle rouge centré sur le point cliqué par l'utilisateur, et de rayon 50\n",
    "    * au neuvième clic, tous les cercles deviennent jaunes\n",
    "    * au dizième clic, tous les cercles disparaissent et on recommence au début"
   ]
  },
  {
   "cell_type": "raw",
   "metadata": {},
   "source": [
    "Ecrire l'expression qui donne l'avant-dernier chiffre du nombre référencé par la variable `a`."
   ]
  },
  {
   "cell_type": "raw",
   "metadata": {},
   "source": [
    "Ecrire l'expression qui donne le dernier chiffre du nombre référencé par la variable `a`."
   ]
  }
 ],
 "metadata": {
  "interpreter": {
   "hash": "ac8670c340231d6f7714938eae3048d32d1692966e2ebe9007b5763411a361c1"
  },
  "kernelspec": {
   "display_name": "Python 3.9.7 64-bit ('l1-python': conda)",
   "name": "python3"
  },
  "language_info": {
   "codemirror_mode": {
    "name": "ipython",
    "version": 3
   },
   "file_extension": ".py",
   "mimetype": "text/x-python",
   "name": "python",
   "nbconvert_exporter": "python",
   "pygments_lexer": "ipython3",
   "version": "3.9.7"
  }
 },
 "nbformat": 4,
 "nbformat_minor": 1
}
