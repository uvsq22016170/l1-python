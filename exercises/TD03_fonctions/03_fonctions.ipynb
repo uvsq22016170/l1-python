{
 "cells": [
  {
   "cell_type": "markdown",
   "metadata": {},
   "source": [
    "# Instructions Générales\n",
    "\n",
    "Ce TD est à faire en créant un fichier td3.py, que vous éditerez dans VSCode. \n",
    "Vous ne remplirez pas les cellules de ce notebook, mais vous les copierez au fur et à mesure \n",
    "dans votre fichier pour les compléter.\n",
    "\n",
    "Vous respecterez au mieux les règles d'écriture de code, en particulier chaque fonction devra avoir un **docstring** et des commentaires si nécessaire et les noms de variable seront illustratifs de leur usage. Vous utiliserez les outils de débogage (flake8, mypy, debugger, pythontutor ...) pour corriger vos bogues."
   ]
  },
  {
   "cell_type": "markdown",
   "metadata": {},
   "source": [
    "# Gestion du temps\n",
    "\n",
    "Nous allons créer un petit logiciel de gestion du temps et des dates.\n",
    "Pour cela nous aurons besoin de créer un certain nombre de fonctions utilitaires.\n",
    "\n",
    "Un temps a le format suivant: (jour: int, heure: int, minute: int, seconde: int).\n",
    "C'est un tuple de 4 éléments. Par exemple (4, 3, 13, 20) correspond à 4 jours, 3 heures, 13 minutes et 20 secondes.\n",
    "Si on a une variable temps = (4, 3, 13, 20), pour accéder au premier élément on fait temps\\[0\\] ce qui donne 4,\n",
    "le nombre de jours.\n",
    "\n",
    "Créer la fonction qui prend comme argument le temps et renvoie le nombre de seconde total correspondant à ce temps.\n",
    "Créer la fonction qui prend un nombre de secondes et renvoie le temps correspondant."
   ]
  },
  {
   "cell_type": "code",
   "execution_count": 2,
   "metadata": {},
   "outputs": [
    {
     "name": "stdout",
     "output_type": "stream",
     "text": [
      "<class 'tuple'>\n",
      "342094\n",
      "1 jours 3 heures 46 minutes 40 secondes\n"
     ]
    }
   ],
   "source": [
    "#temps[0] : jours, temps[1]: heures, temps[2]: minutes, temps[3]: secondes\n",
    "\n",
    "def tempsEnSeconde(temps):\n",
    "    \"\"\" Renvoie la valeur en seconde de temps donné comme jour, heure, minute, seconde.\"\"\"\n",
    "    return(temps[0] * 24 * 60 * 60 + temps[1] * 60 * 60 + temps[2] * 60 + temps[3] )\n",
    "\n",
    "temps = (3,23,1,34)\n",
    "print(type(temps))\n",
    "print(tempsEnSeconde(temps))   \n",
    "\n",
    "def secondeEnTemps(seconde):\n",
    "    \"\"\"Renvoie le temps (jour, heure, minute, seconde) qui correspond au nombre de seconde passé en argument\"\"\"\n",
    "    temps0 = seconde // 86400\n",
    "    seconde -= temps0 * 86400\n",
    "    temps1 = seconde // 3600\n",
    "    seconde -= temps1 * 3600\n",
    "    temps2 = seconde // 60\n",
    "    temps3 = seconde - temps2 * 60\n",
    "    return (temps0, temps1, temps2, temps3)\n",
    "\n",
    "temps = secondeEnTemps(100000)\n",
    "print(temps[0],\"jours\",temps[1],\"heures\",temps[2],\"minutes\",temps[3],\"secondes\")"
   ]
  },
  {
   "cell_type": "markdown",
   "metadata": {},
   "source": [
    "Créer une fonction d'affichage d'un temps `afficheTemps`. Attention, les mots jour, heure et seconde doivent être au pluriel s'il y en a plusieurs. S'il y en a zéro, ils ne doivent pas apparaître.\n",
    "`print(message, end=\"\")` permet de ne pas sauter une ligne après un print. \n",
    "Vous pouvez écrire une fonction qui affiche un mot au pluriel ou non, appelée ensuite plusieurs fois par `afficheTemps` pour simplifier votre code.\n"
   ]
  },
  {
   "cell_type": "code",
   "execution_count": 3,
   "metadata": {},
   "outputs": [
    {
     "name": "stdout",
     "output_type": "stream",
     "text": [
      "1 jour 14 minutes 23 secondes "
     ]
    }
   ],
   "source": [
    "#fonction auxiliaire ici\n",
    "\n",
    "def afficheTemps(temps):\n",
    "    if temps[0] != 0 :\n",
    "        print(temps[0], \"jour\" + \"s\" * bool(temps[0] - 1), end=\" \")\n",
    "    if temps[1] != 0 :\n",
    "        print(temps[1], \"heure\" + \"s\" * bool(temps[1] - 1), end=\" \")\n",
    "    if temps[2] != 0 :\n",
    "        print(temps[2], \"minute\" + \"s\" * bool(temps[2] - 1), end=\" \")\n",
    "    if temps[3] != 0 :\n",
    "        print(temps[3], \"seconde\" + \"s\" * bool(temps[3] - 1), end=\" \")\n",
    "\n",
    "afficheTemps((1,0,14,23))"
   ]
  },
  {
   "cell_type": "markdown",
   "metadata": {},
   "source": [
    "Ecrire une fonction qui demande à l'utilisateur de rentrer un nombre de jours, d'heures, de minutes et\n",
    "de secondes et qui renvoie un temps. Attention, si l'entrée utilisateur n'est pas correcte, par exemple 80 minutes,\n",
    "afficher un message d'erreur et s'arrêter.\n",
    "\n",
    "(Optionnel) Au lieu d'arêter le programme, demander de rentrer une nouvelle valeur, tant que \n",
    "ce n'est pas une valeur correcte."
   ]
  },
  {
   "cell_type": "code",
   "execution_count": 4,
   "metadata": {},
   "outputs": [
    {
     "name": "stdout",
     "output_type": "stream",
     "text": [
      "1 jour 2 heures 3 minutes 4 secondes "
     ]
    }
   ],
   "source": [
    "def demandeTemps():\n",
    "    j = int(input(\"Tapez un nombre de jours\"))\n",
    "    temps = [j, 0, 0, 0]\n",
    "    for n in range (1,4) :\n",
    "        incorrect = 1\n",
    "        if n == 1 :\n",
    "            tmax = 24\n",
    "            unite = \"d'heures\"\n",
    "        elif n == 2 :\n",
    "            tmax = 60\n",
    "            unite = \"de minutes\"\n",
    "        elif n == 3 :\n",
    "            tmax = 60\n",
    "            unite = \"de secondes\"\n",
    "        while incorrect == 1 :\n",
    "            t = int(input(\"Tapez un nombre \" + unite))\n",
    "            if 0 <= t <= tmax :\n",
    "                incorrect = 0\n",
    "            else : \n",
    "                print(\"Votre nombre\", unite, \"et incorrect, veuillez le retaper\")\n",
    "        temps[n] = t\n",
    "    return((temps[0], temps[1], temps[2], temps[3]))\n",
    "\n",
    "afficheTemps(demandeTemps())"
   ]
  },
  {
   "cell_type": "markdown",
   "metadata": {},
   "source": [
    "On veut être capable d'additionner deux temps. Donner une fonction qui fait ce calcul,\n",
    "en utilisant les fonctions précédentes."
   ]
  },
  {
   "cell_type": "code",
   "execution_count": 5,
   "metadata": {},
   "outputs": [
    {
     "data": {
      "text/plain": [
       "(8, 2, 1, 26)"
      ]
     },
     "execution_count": 5,
     "metadata": {},
     "output_type": "execute_result"
    }
   ],
   "source": [
    "def sommeTemps(temps1,temps2):\n",
    "    return(secondeEnTemps(tempsEnSeconde(temps1) + tempsEnSeconde(temps2)))\n",
    "sommeTemps((2,3,4,25),(5,22,57,1))"
   ]
  },
  {
   "cell_type": "markdown",
   "metadata": {},
   "source": [
    "On veut maintenant calculer un pourcentage d'un temps. Par exemple, 20% de\n",
    "2 jours et 36 minutes correspond à 9 heures, 43 minutes et 12 secondes.\n",
    "\n",
    "Implémenter la fonction `proportionTemps` puis appeler cette fonction en échangeant l'ordre des arguments mais en les nommant."
   ]
  },
  {
   "cell_type": "code",
   "execution_count": 6,
   "metadata": {},
   "outputs": [
    {
     "name": "stdout",
     "output_type": "stream",
     "text": [
      "24 minutes 7 secondes "
     ]
    }
   ],
   "source": [
    "def proportionTemps(temps,proportion):\n",
    "    return(secondeEnTemps(int(tempsEnSeconde(temps) * 0.2)))\n",
    "afficheTemps(proportionTemps((0,2,0,36),0.2))"
   ]
  },
  {
   "cell_type": "markdown",
   "metadata": {},
   "source": [
    "On veut maintenant afficher un temps sous forme de date, en supposant \n",
    "que le temps 0 est le 1 janvier 1970 à 00:00:00.\n",
    "\n",
    "* Implémenter une fonction `tempsEnDate`qui donne la date sous la forme (année, jour, heure, minute, seconde).\n",
    "* Implémenter la fonction `afficheDate`qui affiche la date. \n",
    "* (Optionnel) Gérer également les mois."
   ]
  },
  {
   "cell_type": "code",
   "execution_count": 7,
   "metadata": {},
   "outputs": [
    {
     "name": "stdout",
     "output_type": "stream",
     "text": [
      "11574 jours 1 heure 46 minutes 40 secondes \n",
      "\n",
      "17 septembre 2001 à 1 : 46 : 40\n",
      "16 11 2021 à 9 : 39 : 22\n"
     ]
    }
   ],
   "source": [
    "from time import *\n",
    "\n",
    "def tempsEnDate(temps):\n",
    "    a = 1970 + temps[0] // 365\n",
    "    j = 1 + temps[0] % 365\n",
    "    if 1 <= j <= 31 :\n",
    "        m = \"janvier\"\n",
    "    elif 32 <= j <= 59 :\n",
    "        m = \"février\"\n",
    "        j -= 31\n",
    "    elif 60 <= j <= 90 :\n",
    "        m = \"mars\"\n",
    "        j -= 59\n",
    "    elif 91 <= j <= 120 :\n",
    "        m = \"avril\"\n",
    "        j -= 90\n",
    "    elif 121 <= j <= 151 :\n",
    "        m = \"mai\"\n",
    "        j -= 120\n",
    "    elif 152 <= j <= 181 :\n",
    "        m = \"juin\"\n",
    "        j -= 151\n",
    "    elif 182 <= j <= 212 :\n",
    "        m = \"juillet\"\n",
    "        j -= 181\n",
    "    elif 213 <= j <= 243 :\n",
    "        m = \"août\"\n",
    "        j -= 212\n",
    "    elif 244 <= j <= 273 :\n",
    "        m = \"septembre\"\n",
    "        j -= 243\n",
    "    elif 274 <= j <= 304 :\n",
    "        m = \"octobre\"\n",
    "        j -= 273\n",
    "    elif 305 <= j <= 334 :\n",
    "        m = \"novembre\"\n",
    "        j -= 304\n",
    "    elif 335 <= j <= 365 :\n",
    "        m = \"décembre\"\n",
    "        j -= 334\n",
    "    return(a, m, j, temps[1], temps[2], temps[3])\n",
    "\n",
    "def afficheDate(date = tuple(gmtime(int(time())))):\n",
    "    print(date[2], date[1], date[0], \"à\", date[3], \":\", date[4], \":\", date[5])\n",
    "\n",
    "temps = secondeEnTemps(1000000000)\n",
    "afficheTemps(temps)\n",
    "print(\"\\n\")\n",
    "afficheDate(tempsEnDate(temps))\n",
    "afficheDate()"
   ]
  },
  {
   "cell_type": "markdown",
   "metadata": {},
   "source": [
    "Il existe des fonctions dans la librairie `time` pour la gestion du temps. En particulier, il existe\n",
    "une fonction `time` qui donne le temps écoulé depuis 1970 en secondes. \n",
    "La trouver avec la [documentation python](https://docs.python.org/fr/3/library/time.html#module-time) et la tester en utilisant `afficheDate`. \n",
    "Tester de la même manière la fonction `time.gmtime` qui réalise une tâche similaire à `tempsEnDate`.\n",
    "Que constatez vous ?"
   ]
  },
  {
   "cell_type": "code",
   "execution_count": 9,
   "metadata": {},
   "outputs": [
    {
     "name": "stdout",
     "output_type": "stream",
     "text": [
      "29 novembre 2021 à 9 : 39 : 35\n",
      "time.struct_time(tm_year=2021, tm_mon=11, tm_mday=16, tm_hour=9, tm_min=39, tm_sec=35, tm_wday=1, tm_yday=320, tm_isdst=0)\n"
     ]
    }
   ],
   "source": [
    "from time import *\n",
    "temps = secondeEnTemps(int(time()))\n",
    "afficheDate(tempsEnDate(temps))\n",
    "print(gmtime(int(time())))\n"
   ]
  },
  {
   "cell_type": "markdown",
   "metadata": {},
   "source": [
    "Attention, tous les 4 ans les années sont bisextiles (un jour de plus) sauf les multiples de 100 qui ne sont pas des multiples de 400.\n",
    "Donner un code qui prend un nombre de jours et affiche toutes les années bisextiles depuis 1 janvier 2020 à 00:00:00 jusqu'à la fin de ces jours."
   ]
  },
  {
   "cell_type": "code",
   "execution_count": 10,
   "metadata": {},
   "outputs": [
    {
     "data": {
      "text/plain": [
       "[1972,\n",
       " 1976,\n",
       " 1980,\n",
       " 1984,\n",
       " 1988,\n",
       " 1992,\n",
       " 1996,\n",
       " 2000,\n",
       " 2004,\n",
       " 2008,\n",
       " 2012,\n",
       " 2016,\n",
       " 2020,\n",
       " 2024]"
      ]
     },
     "execution_count": 10,
     "metadata": {},
     "output_type": "execute_result"
    }
   ],
   "source": [
    "def bisextile(jour):\n",
    "    L = []\n",
    "    a = 1970 + jour // 365\n",
    "    for n in range (1970, a + 1) :\n",
    "        if (n % 4 == 0 and n % 100 != 0) or n % 400 == 0 : \n",
    "            L += [n]\n",
    "    return(L)\n",
    "        \n",
    "bisextile(20000)"
   ]
  },
  {
   "cell_type": "markdown",
   "metadata": {},
   "source": [
    "Implémenter une fonction `nombreBisextile` qui calcule le nombre d'années bisextiles pour un nombre de jour donnés pour corriger votre fonction de calcul de la date."
   ]
  },
  {
   "cell_type": "code",
   "execution_count": 11,
   "metadata": {},
   "outputs": [
    {
     "name": "stdout",
     "output_type": "stream",
     "text": [
      "11574 jours 1 heure 46 minutes 40 secondes \n",
      "\n",
      "9 septembre 2001 à 1 : 46 : 40\n"
     ]
    }
   ],
   "source": [
    "def nombreBisextile(jour):\n",
    "    \"\"\"\n",
    "    entrée : jour (int) : nombre de jour entre 0 et l'infini\n",
    "    sorite : nbr (int) : nombre d'annés bisextile entre 1970 et le nombre d'année qui correspond à jour + 1970\n",
    "    \"\"\"\n",
    "    nbr = 0\n",
    "    a = 1970 + jour // 365\n",
    "    for n in range (1970, a + 1) :\n",
    "        if (n % 4 == 0 and n % 100 != 0) or n % 400 == 0 : \n",
    "            nbr += 1\n",
    "    return(nbr)\n",
    "\n",
    "def tempsEnDateBisextile(temps):\n",
    "    \"\"\"\n",
    "    entrée : temps (tuple) : contient (jours, heures, minutes, secondes)\n",
    "    sortie : date (tuple) : contient (années, mois, jours, heures, minutes secondes), les jours étant ici les jours du mois\n",
    "    \"\"\"\n",
    "    x = 0\n",
    "    a = 1970 + temps[0] // 365\n",
    "    j = 1 + temps[0] % 365 - nombreBisextile(temps[0])\n",
    "    if (a % 4 == 0 and a % 100 != 0) or a % 400 == 0 : \n",
    "        x = 1\n",
    "    if 1 <= j <= 31 :\n",
    "        m = \"janvier\"\n",
    "    elif 32 <= j <= 59 + x :\n",
    "        m = \"février\"\n",
    "        j -= 31\n",
    "    elif 60 + x <= j <= 90 + x :\n",
    "        m = \"mars\"\n",
    "        j -= 59\n",
    "    elif 91 + x <= j <= 120 + x :\n",
    "        m = \"avril\"\n",
    "        j -= 90\n",
    "    elif 121 + x <= j <= 151 + x :\n",
    "        m = \"mai\"\n",
    "        j -= 120\n",
    "    elif 152 + x <= j <= 181 + x :\n",
    "        m = \"juin\"\n",
    "        j -= 151\n",
    "    elif 182 + x <= j <= 212 + x :\n",
    "        m = \"juillet\"\n",
    "        j -= 181\n",
    "    elif 213 + x <= j <= 243 + x :\n",
    "        m = \"août\"\n",
    "        j -= 212\n",
    "    elif 244 + x <= j <= 273 + x :\n",
    "        m = \"septembre\"\n",
    "        j -= 243\n",
    "    elif 274 + x <= j <= 304 + x :\n",
    "        m = \"octobre\"\n",
    "        j -= 273\n",
    "    elif 305 + x <= j <= 334 + x :\n",
    "        m = \"novembre\"\n",
    "        j -= 304\n",
    "    elif 335 + x <= j <= 365 + x :\n",
    "        m = \"décembre\"\n",
    "        j -= 334\n",
    "    return(a, m, j, temps[1], temps[2], temps[3])\n",
    "   \n",
    "temps = secondeEnTemps(1000000000)\n",
    "afficheTemps(temps)\n",
    "print(\"\\n\")\n",
    "afficheDate(tempsEnDateBisextile(temps))"
   ]
  },
  {
   "cell_type": "markdown",
   "metadata": {},
   "source": [
    "Ajouter des valeurs par défaut dans le code de `afficheDate` afin de pouvoir ommettre\n",
    "l'argument de ces fonctions. Dans ce cas là, on affichera la date actuelle en utilisant la fonction `time`."
   ]
  },
  {
   "cell_type": "markdown",
   "metadata": {},
   "source": [
    "On va maintenant inspecter notre code pour améliorer sa qualité:\n",
    "\n",
    "* Regarder tous les warnings donnés par flake8 et essayer de les régler.\n",
    "* Utiliser le debugger (F5) pour étudier le fonctionnement de votre fonction nombreBisextile.\n",
    "* Mettre les annotations de type des arguments et du retour de la fonction pour nombreBisextile et une autre fonction de votre choix. Vérifier avec mypy que tout fonctionne bien."
   ]
  },
  {
   "cell_type": "markdown",
   "metadata": {},
   "source": [
    "Donner une fonction qui vérifie la charge horaire d'un employé, donnée sous forme d'une liste de temps travaillé chaque semaine dans un mois. Il ne faut pas dépasser 48h par semaine et 140h par mois (qu'on considère ici de 4 semaines).\n",
    "\n",
    "(Optionnel) S'adapter à une liste qui peut contenir plusieurs mois."
   ]
  },
  {
   "cell_type": "code",
   "execution_count": null,
   "metadata": {},
   "outputs": [],
   "source": [
    "def verifie(liste_temps):\n",
    "    pass\n",
    "\n",
    "\n",
    "liste_temps = [[1,2,39,34],[0,1,9,4],[0,29,39,51],[0,31,13,46]]\n",
    "verifie(liste_temps)"
   ]
  },
  {
   "cell_type": "code",
   "execution_count": null,
   "metadata": {},
   "outputs": [
    {
     "ename": "NameError",
     "evalue": "name 'b' is not defined",
     "output_type": "error",
     "traceback": [
      "\u001b[0;31m---------------------------------------------------------------------------\u001b[0m",
      "\u001b[0;31mNameError\u001b[0m                                 Traceback (most recent call last)",
      "\u001b[0;32m<ipython-input-4-367e618768f7>\u001b[0m in \u001b[0;36m<module>\u001b[0;34m\u001b[0m\n\u001b[1;32m      8\u001b[0m \u001b[0mc\u001b[0m \u001b[0;34m=\u001b[0m \u001b[0;36m1\u001b[0m\u001b[0;34m\u001b[0m\u001b[0;34m\u001b[0m\u001b[0m\n\u001b[1;32m      9\u001b[0m \u001b[0;31m#b = calculs(3,4)\u001b[0m\u001b[0;34m\u001b[0m\u001b[0;34m\u001b[0m\u001b[0;34m\u001b[0m\u001b[0m\n\u001b[0;32m---> 10\u001b[0;31m \u001b[0mprint\u001b[0m\u001b[0;34m(\u001b[0m\u001b[0ma\u001b[0m\u001b[0;34m,\u001b[0m\u001b[0mb\u001b[0m\u001b[0;34m,\u001b[0m\u001b[0mc\u001b[0m\u001b[0;34m)\u001b[0m\u001b[0;34m\u001b[0m\u001b[0;34m\u001b[0m\u001b[0m\n\u001b[0m",
      "\u001b[0;31mNameError\u001b[0m: name 'b' is not defined"
     ]
    }
   ],
   "source": [
    "a = 2\n",
    "\n",
    "def calculs(b,c):\n",
    "    c = a * 2\n",
    "    a = 1\n",
    "    return a + b;\n",
    "\n",
    "c = 1\n",
    "b = calculs(3,4)\n",
    "print(a,b,c)"
   ]
  },
  {
   "cell_type": "code",
   "execution_count": null,
   "metadata": {},
   "outputs": [],
   "source": []
  }
 ],
 "metadata": {
  "interpreter": {
   "hash": "ac8670c340231d6f7714938eae3048d32d1692966e2ebe9007b5763411a361c1"
  },
  "kernelspec": {
   "display_name": "Python 3.9.7 64-bit ('l1-python': conda)",
   "name": "python3"
  },
  "language_info": {
   "codemirror_mode": {
    "name": "ipython",
    "version": 3
   },
   "file_extension": ".py",
   "mimetype": "text/x-python",
   "name": "python",
   "nbconvert_exporter": "python",
   "pygments_lexer": "ipython3",
   "version": "3.9.7"
  }
 },
 "nbformat": 4,
 "nbformat_minor": 4
}
