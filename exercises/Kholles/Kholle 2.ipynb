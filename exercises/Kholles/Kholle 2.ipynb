{
 "cells": [
  {
   "cell_type": "markdown",
   "metadata": {},
   "source": [
    "### Exercice 1"
   ]
  },
  {
   "cell_type": "code",
   "execution_count": 9,
   "metadata": {},
   "outputs": [
    {
     "name": "stdout",
     "output_type": "stream",
     "text": [
      "[2, 8, 9, 7, 10, 13, 0, 0, 0]\n"
     ]
    }
   ],
   "source": [
    "L = [2, 8, 0, 9, 0, 7, 10, 0, 13]\n",
    "nbr = L.count(0)\n",
    "for n in range (nbr) :\n",
    "    L.remove(0)\n",
    "    L.append(0)\n",
    "print(L)\n"
   ]
  },
  {
   "cell_type": "markdown",
   "metadata": {},
   "source": [
    "### Exercice 2\n",
    "Avec n entier naturel trouver tous les i et j tels que n = i^2 + j^2 avec j >= i.\n",
    "Pour n = 125 : [2, 11], [5, 10]"
   ]
  },
  {
   "cell_type": "code",
   "execution_count": 2,
   "metadata": {},
   "outputs": [
    {
     "name": "stdout",
     "output_type": "stream",
     "text": [
      "[[2, 3], [2, 3], [2, 4], [2, 3], [2, 4], [2, 3], [2, 3], [2, 2], [2, 4], [2, 4], [2, 3], [2, 3], [2, 2]]\n"
     ]
    }
   ],
   "source": [
    "#Fait en colle\n",
    "from math import *\n",
    "def decomposition (n):\n",
    "    L = []\n",
    "    for k in range (1, n):\n",
    "        i = sqrt(n // k)\n",
    "        j = sqrt(n % k)\n",
    "        if int(i)**2 != 0 and int(i)**2 != 1 and int(j)**2 != 0 and int(j)**2 != 1 and int(j) >= int(i):\n",
    "            L.append([int(i), int(j)])\n",
    "    return(L)\n",
    "print(decomposition(125))"
   ]
  },
  {
   "cell_type": "code",
   "execution_count": 3,
   "metadata": {},
   "outputs": [
    {
     "name": "stdout",
     "output_type": "stream",
     "text": [
      "[[2, 11], [5, 10]]\n"
     ]
    }
   ],
   "source": [
    "#Fait plus tard\n",
    "from math import *\n",
    "def decomposition (n):\n",
    "    L = []\n",
    "    for i in range (1, n):\n",
    "        for j in range (1, n):\n",
    "            if j >= i and n == i**2 + j**2 :\n",
    "                L.append([i, j])\n",
    "    return(L)\n",
    "print(decomposition(125))"
   ]
  }
 ],
 "metadata": {
  "interpreter": {
   "hash": "ac8670c340231d6f7714938eae3048d32d1692966e2ebe9007b5763411a361c1"
  },
  "kernelspec": {
   "display_name": "Python 3.9.7 64-bit ('l1-python': conda)",
   "name": "python3"
  },
  "language_info": {
   "codemirror_mode": {
    "name": "ipython",
    "version": 3
   },
   "file_extension": ".py",
   "mimetype": "text/x-python",
   "name": "python",
   "nbconvert_exporter": "python",
   "pygments_lexer": "ipython3",
   "version": "3.9.7"
  },
  "orig_nbformat": 4
 },
 "nbformat": 4,
 "nbformat_minor": 2
}
