{
 "cells": [
  {
   "cell_type": "code",
   "execution_count": 16,
   "metadata": {},
   "outputs": [
    {
     "data": {
      "text/plain": [
       "True"
      ]
     },
     "execution_count": 16,
     "metadata": {},
     "output_type": "execute_result"
    }
   ],
   "source": [
    "#Exercice 1\n",
    "x = 4\n",
    "y = 2\n",
    "\n",
    "x % y == 0"
   ]
  },
  {
   "cell_type": "code",
   "execution_count": 15,
   "metadata": {},
   "outputs": [
    {
     "name": "stdout",
     "output_type": "stream",
     "text": [
      "aucun des deux ne divise l'autre\n"
     ]
    }
   ],
   "source": [
    "#Exercice 2\n",
    "a = 11\n",
    "b = 13\n",
    "c = 2\n",
    "\n",
    "if a == b == c :\n",
    "    print(\"variables égales\")\n",
    "elif a % b == 0 or a % c == 0 or b % a == 0 or b % c == 0 or c % a == 0 or c % b == 0 :\n",
    "    print(\"l'un des deux divise l'autre\")\n",
    "else :\n",
    "    print(\"aucun des deux ne divise l'autre\")"
   ]
  },
  {
   "cell_type": "code",
   "execution_count": 28,
   "metadata": {},
   "outputs": [
    {
     "name": "stdout",
     "output_type": "stream",
     "text": [
      "L'ensemble des diviseur de n est [1, 2, 4, 8]\n"
     ]
    }
   ],
   "source": [
    "#Exercice 3\n",
    "n = int(input(\"Saisissez un nombre entier\"))\n",
    "ens_div_n = []\n",
    "\n",
    "for i in range (1, n + 1) :\n",
    "    if n % i == 0 :\n",
    "        ens_div_n += [i]\n",
    "\n",
    "print(\"L'ensemble des diviseur de n est\", ens_div_n)"
   ]
  }
 ],
 "metadata": {
  "interpreter": {
   "hash": "ac8670c340231d6f7714938eae3048d32d1692966e2ebe9007b5763411a361c1"
  },
  "kernelspec": {
   "display_name": "Python 3.9.7 64-bit ('l1-python': conda)",
   "name": "python3"
  },
  "language_info": {
   "codemirror_mode": {
    "name": "ipython",
    "version": 3
   },
   "file_extension": ".py",
   "mimetype": "text/x-python",
   "name": "python",
   "nbconvert_exporter": "python",
   "pygments_lexer": "ipython3",
   "version": "3.9.7"
  },
  "orig_nbformat": 4
 },
 "nbformat": 4,
 "nbformat_minor": 2
}
