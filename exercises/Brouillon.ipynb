{
 "cells": [
  {
   "cell_type": "code",
   "execution_count": 1,
   "metadata": {},
   "outputs": [
    {
     "ename": "NameError",
     "evalue": "name 'secondeEnTemps' is not defined",
     "output_type": "error",
     "traceback": [
      "\u001b[1;31m---------------------------------------------------------------------------\u001b[0m",
      "\u001b[1;31mNameError\u001b[0m                                 Traceback (most recent call last)",
      "\u001b[1;32m~\\AppData\\Local\\Temp/ipykernel_5332/3102243408.py\u001b[0m in \u001b[0;36m<module>\u001b[1;34m\u001b[0m\n\u001b[0;32m     51\u001b[0m \u001b[1;33m\u001b[0m\u001b[0m\n\u001b[0;32m     52\u001b[0m \u001b[1;33m\u001b[0m\u001b[0m\n\u001b[1;32m---> 53\u001b[1;33m \u001b[0mtemps\u001b[0m \u001b[1;33m=\u001b[0m \u001b[0msecondeEnTemps\u001b[0m\u001b[1;33m(\u001b[0m\u001b[1;36m1000000000\u001b[0m\u001b[1;33m)\u001b[0m\u001b[1;33m\u001b[0m\u001b[1;33m\u001b[0m\u001b[0m\n\u001b[0m\u001b[0;32m     54\u001b[0m \u001b[0mafficheTemps\u001b[0m\u001b[1;33m(\u001b[0m\u001b[0mtemps\u001b[0m\u001b[1;33m)\u001b[0m\u001b[1;33m\u001b[0m\u001b[1;33m\u001b[0m\u001b[0m\n\u001b[0;32m     55\u001b[0m \u001b[0mprint\u001b[0m\u001b[1;33m(\u001b[0m\u001b[1;34m\"\\n\"\u001b[0m\u001b[1;33m)\u001b[0m\u001b[1;33m\u001b[0m\u001b[1;33m\u001b[0m\u001b[0m\n",
      "\u001b[1;31mNameError\u001b[0m: name 'secondeEnTemps' is not defined"
     ]
    }
   ],
   "source": [
    "def tempsEnDate(temps):\n",
    "    année = 1970 + int(temps[0] // 365)\n",
    "    jours = temps[0] - (année - 1970) * 365\n",
    "    print(année- 1970)\n",
    "    print((année - 1970) * 365)\n",
    "    print(jours)\n",
    "    print(temps[0])\n",
    "    x = 28\n",
    "    if 1 <= jours <= 31 :\n",
    "        mois = \"janvier\"\n",
    "    elif 32 <= jours <= x + 31 :\n",
    "        mois = \"février\"\n",
    "        jours -= 31\n",
    "    elif x + 32 <= jours <= x + 62 :\n",
    "        mois = \"mars\"\n",
    "        jours -= x + 31\n",
    "    elif x + 63 <= jours <= x + 92 :\n",
    "        mois = \"avril\"\n",
    "        jours -= x + 62\n",
    "    elif x + 93 <= jours <= x + 123 :\n",
    "        mois = \"mai\"\n",
    "        jours -= x + 92\n",
    "    elif x + 124 <= jours <= x + 153 :\n",
    "        mois = \"juin\"\n",
    "        jours -= x + 123\n",
    "    elif x + 154 <= jours <= x + 184 :\n",
    "        mois = \"juillet\"\n",
    "        jours -= x + 153\n",
    "    elif x + 185 <= jours <= x + 215 :\n",
    "        mois = \"août\"\n",
    "        jours -= x + 184\n",
    "    elif x + 216 <= jours <= x + 245 :\n",
    "        mois = \"septembre\"\n",
    "        jours -= x + 215\n",
    "    elif x + 246 <= jours <= x + 276 :\n",
    "        mois = \"octobre\"\n",
    "        jours -= x + 245\n",
    "    elif x + 277 <= jours <= x + 306 :\n",
    "        mois = \"novembre\"\n",
    "        jours -= x + 276\n",
    "    elif x + 307 <= jours <= x + 337 :\n",
    "        mois = \"décembre\"\n",
    "        jours -= x + 306\n",
    "    print(jours)\n",
    "    return(année, mois, jours - 12, temps[1], temps[2], temps[3])\n",
    "\n",
    "def afficheDate(date = -1):\n",
    "    print(int(date[2]), date[1], date[0], \"à\", int(date[3]), \":\", int(date[4]), \":\", int(date[5]))\n",
    "\n",
    "\n",
    "\n",
    "\n",
    "temps = secondeEnTemps(1000000000)\n",
    "afficheTemps(temps)\n",
    "print(\"\\n\")\n",
    "afficheDate(tempsEnDate(temps))\n",
    "afficheDate()"
   ]
  }
 ],
 "metadata": {
  "interpreter": {
   "hash": "ac8670c340231d6f7714938eae3048d32d1692966e2ebe9007b5763411a361c1"
  },
  "kernelspec": {
   "display_name": "Python 3.9.7 64-bit ('l1-python': conda)",
   "language": "python",
   "name": "python3"
  },
  "language_info": {
   "codemirror_mode": {
    "name": "ipython",
    "version": 3
   },
   "file_extension": ".py",
   "mimetype": "text/x-python",
   "name": "python",
   "nbconvert_exporter": "python",
   "pygments_lexer": "ipython3",
   "version": "3.9.7"
  },
  "orig_nbformat": 4
 },
 "nbformat": 4,
 "nbformat_minor": 2
}
