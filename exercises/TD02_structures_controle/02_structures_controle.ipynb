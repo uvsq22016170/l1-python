{
 "cells": [
  {
   "cell_type": "markdown",
   "source": [
    "# TD 2: Les structures de contrôle\n",
    "\n",
    "---\n",
    "\n",
    "## 0. Récupération des nouveaux documents\n",
    "\n",
    "\n",
    "Les sujets de TD ainsi que les supports de cours sont publiés en ligne au fur et à mesure sur l'espace github original [https://github.com/uvsq-info/l1-python](https://github.com/uvsq-info/l1-python). Au moment où vous avez fait le fork de cet espace sur votre espace personnel, il est probable que tous les contenus n'étaient pas présents. Pour compléter votre espace, deux solutions sont possibles:\n",
    "\n",
    "\n",
    "1. (solution à privilégier) aller sur la page du projet original [https://github.com/uvsq-info/l1-python](https://github.com/uvsq-info/l1-python), et cliquer sur le bouton vert `Code` en haut à droite. Choisir `download ZIP`, puis extraire l'ensemble des nouveaux fichiers vers votre projet personnel local. Vous pouvez ensuite sauvegarder ces ajouts dans votre espace github personnel en suivant la procédure habituelle.\n",
    "2. (solution qui présente des risques de conflits entre différentes versions d'un même document) en ligne de commande dans le terminal, en suivant la procédure de la section *Intégrer les mises à jour du projet original* du fichier [README.md](https://github.com/uvsq-info/l1-python/blob/master/README.md#int%C3%A9grer-les-mises-%C3%A0-jour-du-projet-original)\n"
   ],
   "metadata": {
    "slideshow": {
     "slide_type": "slide"
    }
   }
  },
  {
   "cell_type": "markdown",
   "source": [
    "---\n",
    "\n",
    "## 1. Premiers exercices avec les structures conditionnelles\n",
    "\n",
    "**Exercice 1:**\n",
    "\n",
    "1. Soit *num1 = 15* et *num2 = 5*. Ecrire un programme qui affiche *Factors!* si l'un des nombres est un facteur de l'autre (c'est-à-dire qu'il divise l'autre nombre). Si aucun des nombres n'est un facteur de l'autre, le programme n'affiche rien.\n",
    "2. Changer le code que vous avez écrit de telle sorte qu'il affiche toujours *Factors!* si un nombre est un facteur de l'autre, mais qui affiche aussi *Not factors!* si aucun des nombres n'est un facteur de l'autre."
   ],
   "metadata": {
    "slideshow": {
     "slide_type": "slide"
    }
   }
  },
  {
   "cell_type": "code",
   "execution_count": 40,
   "source": [
    "num1 = 15\r\n",
    "num2 = 5\r\n",
    "if num1 % num2 == 0 or num2 % num1 == 0 :\r\n",
    "    print(\"Factors!\")\r\n",
    "else :\r\n",
    "    print(\"Not factors!\")"
   ],
   "outputs": [
    {
     "output_type": "stream",
     "name": "stdout",
     "text": [
      "Factors!\n"
     ]
    }
   ],
   "metadata": {
    "slideshow": {
     "slide_type": "notes"
    }
   }
  },
  {
   "cell_type": "markdown",
   "source": [],
   "metadata": {}
  },
  {
   "cell_type": "markdown",
   "source": [
    "**Exercice 2:**\r\n",
    "    \r\n",
    "Soit *state = \"Georgia\"*. Ecrire un programme qui permet d'afficher un message spécifique en fonction de la variable *state* :  \r\n",
    "* \"School isn't cancelled.\" si nous sommes à New Jersey,  \r\n",
    "* \"School is postponed.\" si nous sommes à North Carolina,\r\n",
    "* \"School is cancelled!\" si nous sommes à Georgia,  \r\n",
    "* \"School's status is unknown\" si nous ne sommes pas dans un des trois états précédemment mentionnés."
   ],
   "metadata": {
    "slideshow": {
     "slide_type": "slide"
    }
   }
  },
  {
   "cell_type": "code",
   "execution_count": 41,
   "source": [
    "state = \"Georgia\"\r\n",
    "if state == \"New Jersey\" :\r\n",
    "    print(\"School isn't cancelled.\")\r\n",
    "elif state == \"North Carolina\" :\r\n",
    "    print(\"School is postponed.\")\r\n",
    "elif state == \"Georgia\" :\r\n",
    "    print(\"School is cancelled!\")\r\n",
    "else :\r\n",
    "    print(\"School's status is unknown\")"
   ],
   "outputs": [
    {
     "output_type": "stream",
     "name": "stdout",
     "text": [
      "School is cancelled!\n"
     ]
    }
   ],
   "metadata": {
    "slideshow": {
     "slide_type": "notes"
    }
   }
  },
  {
   "cell_type": "markdown",
   "source": [
    "**Exercice 3:**\n",
    "\n",
    "Ecrire un programme pour découvrir le signe du zodiaque chinois pour une année donnée. Le signe du zodiaque chinois est basé sur un cycle de 12 ans et chaque année de ce cycle est représentée par un animal :\n",
    "* 0: monkey\n",
    "* 1: rooster\n",
    "* 2: dog\n",
    "* 3: pig\n",
    "* 4: rat\n",
    "* 5: ox\n",
    "* 6: tiger\n",
    "* 7: rabbit\n",
    "* 8: dragon\n",
    "* 9: snake\n",
    "* 10: horse\n",
    "* 11: sheep\n",
    "\n",
    "La valeur de l'année % 12 détermine le signe du zodiaque. Par exemple, 1900 est l'année du *rat* puisque 1900 % 12 est 4."
   ],
   "metadata": {
    "slideshow": {
     "slide_type": "slide"
    }
   }
  },
  {
   "cell_type": "code",
   "execution_count": 42,
   "source": [
    "année = 1900\r\n",
    "signe = année % 12\r\n",
    "if signe == 0 :\r\n",
    "    print(\"monkey\")\r\n",
    "elif signe == 1 :\r\n",
    "    print(\"rooster\")\r\n",
    "elif signe == 2 :\r\n",
    "    print(\"dog\")\r\n",
    "elif signe == 3 :\r\n",
    "    print(\"pig\")\r\n",
    "elif signe == 4 :\r\n",
    "    print(\"rat\")\r\n",
    "elif signe == 5 :\r\n",
    "    print(\"ox\")\r\n",
    "elif signe == 6 :\r\n",
    "    print(\"tiger\")\r\n",
    "elif signe == 7 :\r\n",
    "    print(\"rabbit\")\r\n",
    "elif signe == 8 :\r\n",
    "    print(\"dragon\")\r\n",
    "elif signe == 9 :\r\n",
    "    print(\"snake\")\r\n",
    "elif signe == 10 :\r\n",
    "    print(\"horse\")\r\n",
    "elif signe == 11 :\r\n",
    "    print(\"sheep\")"
   ],
   "outputs": [
    {
     "output_type": "stream",
     "name": "stdout",
     "text": [
      "rat\n"
     ]
    }
   ],
   "metadata": {
    "slideshow": {
     "slide_type": "notes"
    }
   }
  },
  {
   "cell_type": "markdown",
   "source": [
    "**Exercice 4:**\n",
    "\n",
    "Soit *temperature = -3.7* et *celsius = True*. *celsius* est une variable booléenne qui indique si la température est en Celsius; si c'est *False*, alors la température donnée est en Fahrenheit. Ecrire un premier programme en utilisant *if-else* seulement qui permet d'afficher *Freezing* si les valeurs données représentent une température très basse, et *Not freezing* si ce n'est pas le cas. En Celsius, on considère qu'il fait très froid lorsque la température est inférieure ou égale à 0 degré. En Fahrenheit, on considère qu'il fait très froid lorsque la température est inférieure ou égale à 32 degrés. Proposer une seconde solution en utilisant *if-elif-else* à ce même problème."
   ],
   "metadata": {
    "slideshow": {
     "slide_type": "slide"
    }
   }
  },
  {
   "cell_type": "code",
   "execution_count": 43,
   "source": [
    "temperature = -3.7\r\n",
    "celsius = True\r\n",
    "\r\n",
    "#1ère solution\r\n",
    "if temperature <= 0 and celsius == True or temperature <= 32 and celsius == False :\r\n",
    "        print(\"Freezing\")\r\n",
    "else :\r\n",
    "    print(\"Not Freezing\")\r\n",
    "\r\n",
    "#2ème solution\r\n",
    "if temperature <= 0 :\r\n",
    "    print(\"Freezing\")\r\n",
    "elif temperature <= 32 and celsius == False :\r\n",
    "    print(\"Freezing\")\r\n",
    "else :\r\n",
    "    print(\"Not Freezing\")"
   ],
   "outputs": [
    {
     "output_type": "stream",
     "name": "stdout",
     "text": [
      "Freezing\n",
      "Freezing\n"
     ]
    }
   ],
   "metadata": {
    "slideshow": {
     "slide_type": "notes"
    }
   }
  },
  {
   "cell_type": "markdown",
   "source": [
    "**Exercice 5:**\n",
    "    \n",
    "Ecrire un programme qui permet de déterminer si une année est bissextile ou non en utilisant une seule instruction *if-else*. Une année *A* est bissextile si *A* est divisible par 4. Elle ne l’est cependant pas si *A* est un multiple\n",
    "de 100, à moins que *A* ne soit multiple de 400.    "
   ],
   "metadata": {
    "slideshow": {
     "slide_type": "slide"
    }
   }
  },
  {
   "cell_type": "code",
   "execution_count": 44,
   "source": [
    "A = 2012\r\n",
    "if A % 4 == 0 and A % 100 != 0 or A % 400 == 0 :\r\n",
    "    print(\"L'année\", A, \"est bissextile\")\r\n",
    "else :\r\n",
    "    print(\"L'année\", A, \"n'est pas bissextile\")"
   ],
   "outputs": [
    {
     "output_type": "stream",
     "name": "stdout",
     "text": [
      "L'année 2012 est bissextile\n"
     ]
    }
   ],
   "metadata": {
    "slideshow": {
     "slide_type": "notes"
    }
   }
  },
  {
   "cell_type": "markdown",
   "source": [
    "---\n",
    "\n",
    "## 2. Premiers exercices avec les structures itératives\n",
    "\n",
    "**Exercice 6:**\n",
    "\n",
    "1. Ecrire un programme qui permet d'afficher tous les nombres entre 1 et 10 (bornes incluses).\n",
    "2. Ecrire un programme se limitant à la boucle *for* qui permet d'afficher tous les nombres pairs entre 1 et 20 (bornes incluses). Proposer une deuxième solution en incluant une structure conditionnelle."
   ],
   "metadata": {}
  },
  {
   "cell_type": "code",
   "execution_count": 45,
   "source": [
    "for n in range (1, 11) :\r\n",
    "    print(n, end = ' ')"
   ],
   "outputs": [
    {
     "output_type": "stream",
     "name": "stdout",
     "text": [
      "1 2 3 4 5 6 7 8 9 10 "
     ]
    }
   ],
   "metadata": {}
  },
  {
   "cell_type": "code",
   "execution_count": 46,
   "source": [
    "#Première solution\r\n",
    "for i in range (2, 21, 2) :\r\n",
    "    print(i, end = ' ')\r\n",
    "print(\"\\n\")\r\n",
    "\r\n",
    "#Deuxième solution\r\n",
    "for j in range (1, 21) :\r\n",
    "    if j % 2 ==0 :\r\n",
    "        print(j, end = ' ')"
   ],
   "outputs": [
    {
     "output_type": "stream",
     "name": "stdout",
     "text": [
      "2 4 6 8 10 12 14 16 18 20 \n",
      "\n",
      "2 4 6 8 10 12 14 16 18 20 "
     ]
    }
   ],
   "metadata": {}
  },
  {
   "cell_type": "markdown",
   "source": [
    "**Exercice 7:**\n",
    "    \n",
    "1. Ecrire un programme qui demande à l'utilisateur de saisir *n* nombres, *n* étant choisi par l'utilisateur, puis d'afficher la moyenne de ces nombres.\n",
    "\n",
    "2. Même question, mais l'utilisateur ne choisit pas à l'avance le nombre *n*, la procédure s'arrête quand il saisit le nombre -1.\n"
   ],
   "metadata": {}
  },
  {
   "cell_type": "code",
   "execution_count": 47,
   "source": [
    "n = int(input())\r\n",
    "num_moy = 0\r\n",
    "for i in range (0, n) :\r\n",
    "    nbr = float(input())\r\n",
    "    num_moy += nbr\r\n",
    "print(num_moy/n)"
   ],
   "outputs": [
    {
     "output_type": "stream",
     "name": "stdout",
     "text": [
      "3.0\n"
     ]
    }
   ],
   "metadata": {}
  },
  {
   "cell_type": "code",
   "execution_count": 48,
   "source": [
    "nbr = 0\r\n",
    "num_moy = 0\r\n",
    "n = 0\r\n",
    "while nbr != -1 :\r\n",
    "    n += 1\r\n",
    "    nbr = float(input())\r\n",
    "    num_moy += nbr\r\n",
    "print(num_moy/n)"
   ],
   "outputs": [
    {
     "output_type": "stream",
     "name": "stdout",
     "text": [
      "2.0\n"
     ]
    }
   ],
   "metadata": {}
  },
  {
   "cell_type": "markdown",
   "source": [
    "**Exercice 8:**\n",
    "\n",
    "Ecrire un programme qui permet de calculer le factoriel d'un nombre positif donné par l'utlisateur selon la formule suivante : \n",
    "n! = 1 x 2 x ... x n.  \n",
    "\n",
    "1. Une première version en utilisant la boucle *for*\n",
    "2. Une seconde version en utilisant la boucle *while*"
   ],
   "metadata": {}
  },
  {
   "cell_type": "code",
   "execution_count": 49,
   "source": [
    "n = int(input())\r\n",
    "n_f = 1\r\n",
    "for i in range (1, n + 1) :\r\n",
    "    n_f *= i\r\n",
    "print(str(n) + \"! = \" + str(n_f))"
   ],
   "outputs": [
    {
     "output_type": "stream",
     "name": "stdout",
     "text": [
      "5! = 120\n"
     ]
    }
   ],
   "metadata": {}
  },
  {
   "cell_type": "code",
   "execution_count": 50,
   "source": [
    "n = int(input())\r\n",
    "n_f = 1\r\n",
    "i = 1\r\n",
    "while i != n + 1 :\r\n",
    "    n_f *= i\r\n",
    "    i = i + 1\r\n",
    "print(str(n) + \"! = \" + str(n_f))"
   ],
   "outputs": [
    {
     "output_type": "stream",
     "name": "stdout",
     "text": [
      "5! = 120\n"
     ]
    }
   ],
   "metadata": {}
  },
  {
   "cell_type": "markdown",
   "source": [
    "---\r\n",
    "\r\n",
    "## 3. Pour aller plus loin\r\n",
    "\r\n",
    "**Excercice 9:**\r\n",
    "\r\n",
    "Ecrire un programme qui permet de connaître le jour de naissance de l'utilisateur en posant cinq questions.\r\n",
    "Chaque question demande si le jour est dans l'un des cinq ensembles suivants :\r\n",
    "\r\n",
    "* Set 1: \\[1 3 5 7 9 11 13 15 17 19 21 23 25 27 29 31\\]\r\n",
    "* Set 2: \\[2 3 6 7 10 11 14 15 18 19 22 23 26 27 30 31\\]\r\n",
    "* Set 3: \\[4 5 6 7 12 13 14 15 20 21 22 23 28 29 30 31\\]\r\n",
    "* Set 4: \\[8 9 10 11 12 13 14 15 24 25 26 27 28 29 30 31\\]\r\n",
    "* Set 5: \\[16 17 18 19 20 21 22 23 24 25 26 27 28 29 30 31\\]\r\n",
    "    \r\n",
    "\r\n",
    "Le jour de naissance est la somme des premiers nombres dans les ensembles où le jour apparaît. Par exemple,\r\n",
    "si le jour de naissance est 19, il apparaît dans Set 1, Set 2 et Set 5. Les premiers chiffres de ces trois ensembles sont 1, 2 et 16. Leur somme est 19."
   ],
   "metadata": {
    "slideshow": {
     "slide_type": "slide"
    }
   }
  },
  {
   "cell_type": "code",
   "execution_count": 51,
   "source": [
    "print(\"\\n Set 1 : [1 3 5 7 9 11 13 15 17 19 21 23 25 27 29 31] \\n Set 2 : [2 3 6 7 10 11 14 15 18 19 22 23 26 27 30 31] \\n Set 3 : [4 5 6 7 12 13 14 15 20 21 22 23 28 29 30 31] \\n Set 4 : [8 9 10 11 12 13 14 15 24 25 26 27 28 29 30 31] \\n Set 5 : [16 17 18 19 20 21 22 23 24 25 26 27 28 29 30 31]\")\r\n",
    "\r\n",
    "Dans_set1 = int(input(\"Votre jour de naissance est-il dans le set 1 ?(oui = 1/non = 0)\"))\r\n",
    "Dans_set2 = int(input(\"Votre jour de naissance est-il dans le set 2 ?(oui = 1/non = 0)\"))\r\n",
    "Dans_set3 = int(input(\"Votre jour de naissance est-il dans le set 3 ?(oui = 1/non = 0)\"))\r\n",
    "Dans_set4 = int(input(\"Votre jour de naissance est-il dans le set 4 ?(oui = 1/non = 0)\"))\r\n",
    "Dans_set5 = int(input(\"Votre jour de naissance est-il dans le set 5 ?(oui = 1/non = 0)\"))\r\n",
    "\r\n",
    "print(\"Votre jour de naissance est :\", Dans_set1 * 1 + Dans_set2 * 2 + Dans_set3 * 4 + Dans_set4 * 8 + Dans_set5 * 16)"
   ],
   "outputs": [
    {
     "output_type": "stream",
     "name": "stdout",
     "text": [
      "\n",
      " Set 1 : [1 3 5 7 9 11 13 15 17 19 21 23 25 27 29 31] \n",
      " Set 2 : [2 3 6 7 10 11 14 15 18 19 22 23 26 27 30 31] \n",
      " Set 3 : [4 5 6 7 12 13 14 15 20 21 22 23 28 29 30 31] \n",
      " Set 4 : [8 9 10 11 12 13 14 15 24 25 26 27 28 29 30 31] \n",
      " Set 5 : [16 17 18 19 20 21 22 23 24 25 26 27 28 29 30 31]\n",
      "Votre jour de naissance est : 2\n"
     ]
    }
   ],
   "metadata": {
    "slideshow": {
     "slide_type": "notes"
    }
   }
  },
  {
   "cell_type": "markdown",
   "source": [
    "**Excercice 10:**\n",
    "\n",
    "Ecrire un programme qui permet de génèrer de manière aléatoire un nombre à deux chiffres, invite l'utilisateur à saisir un nombre à deux chiffres et détermine si l'utilisateur gagne selon les règles suivantes :\n",
    "* Si l'entrée de l'utilisateur correspond à la loterie (le nombre généré aléatoirement) dans l'ordre exact, la récompense est de 10 000€.\n",
    "* Sinon, si les deux chiffres entrés par l'utilisateur correspondent aux deux chiffres du numéro de loterie, la récompense est de 3 000€.\n",
    "* Sinon, si un chiffre dans l'entrée de l'utilisateur correspond à un chiffre dans le numéro de loterie, la récompense est de 1 000€.\n",
    "\n",
    "**Astuce :** Utiliser la fonction **random.randint(0, 99)** pour génèrer de manière aléatoire un nombre à deux chiffres. Cette fonction doit être accompagné par **import random** comme première instruction dans le code."
   ],
   "metadata": {
    "slideshow": {
     "slide_type": "slide"
    }
   }
  },
  {
   "cell_type": "code",
   "execution_count": 52,
   "source": [
    "import random\r\n",
    "loterie = random.randint(10, 99)\r\n",
    "nbr = input(\"Saisissez un nombre à 2 chiffres\")\r\n",
    "if int(nbr) == loterie :\r\n",
    "    print(\"Vous avez gagné 10 000€\")\r\n",
    "elif int(nbr[1] + nbr[0]) == loterie :\r\n",
    "    print(\"Vous avez gagné 3 000€\")\r\n",
    "elif nbr[0] in str(loterie) or nbr[1] in str(loterie) :\r\n",
    "    print(\"Vous avez gagné 1 000€\") \r\n"
   ],
   "outputs": [],
   "metadata": {
    "slideshow": {
     "slide_type": "notes"
    }
   }
  },
  {
   "cell_type": "markdown",
   "source": [
    "**Exercice 11:**\n",
    "    \n",
    "Ecrire un programme qui permet de calculer la somme des chiffres d'un entier *n* donné. Le nombre *n* doit être compris entre 10 et 20 (bornes incluses)."
   ],
   "metadata": {}
  },
  {
   "cell_type": "code",
   "execution_count": 53,
   "source": [
    "n = \"15\"\r\n",
    "print(int(n[0]) + int(n[1]))"
   ],
   "outputs": [
    {
     "output_type": "stream",
     "name": "stdout",
     "text": [
      "6\n"
     ]
    }
   ],
   "metadata": {}
  },
  {
   "cell_type": "markdown",
   "source": [
    "**Exercice 12:**\n",
    "\n",
    "1. Ecrire un programme qui permet de générer aléatoirement deux nombres entre 0 et 9, de calculer leurs différences (en valeur absolue), puis d'inviter l'utilisateur à répondre à la question suivante *que vaut abs(number1 - number2)?*. Le programme doit permettre à l'utilisateur de répondre plusieurs fois jusqu'à la saisie de la bonne réponse.\n",
    "2. Modifier le programme précédent de telle sorte qu'il génère cinq occurences à la suite invitant à répondre à la question précédente. A la fin, le programme affiche le nombre moyen de tentatives qu'il a fallu à l'utilisateur pour répondre à une question."
   ],
   "metadata": {}
  },
  {
   "cell_type": "code",
   "execution_count": 54,
   "source": [
    "import random\r\n",
    "number1 = random.randint(0,9)\r\n",
    "number2 = random.randint(0,9)\r\n",
    "diff = abs(number1 - number2)\r\n",
    "saisie = diff + 1\r\n",
    "while diff != saisie :\r\n",
    "    saisie = int(input(\"Que vaut abs(nulber1 - number2)?\"))"
   ],
   "outputs": [],
   "metadata": {
    "tags": []
   }
  },
  {
   "cell_type": "code",
   "execution_count": 56,
   "source": [
    "import random\r\n",
    "num_moy = 0\r\n",
    "for n in range (5) :\r\n",
    "    number1 = random.randint(0,9)\r\n",
    "    number2 = random.randint(0,9)\r\n",
    "    diff = abs(number1 - number2)\r\n",
    "    saisie = diff + 1\r\n",
    "    tentatives = 0\r\n",
    "    print(diff)\r\n",
    "    while diff != saisie :\r\n",
    "        saisie = int(input(\"Que vaut abs(nulber1 - number2)?\"))\r\n",
    "        tentatives += 1\r\n",
    "    num_moy += tentatives\r\n",
    "print(\"Il vous a fallu\", num_moy/5, \"tentatives en moyenne.\")\r\n"
   ],
   "outputs": [
    {
     "output_type": "stream",
     "name": "stdout",
     "text": [
      "7\n",
      "2\n",
      "4\n",
      "3\n",
      "1\n",
      "Il vous a fallu 6.2 tentatives en moyenne.\n"
     ]
    }
   ],
   "metadata": {
    "tags": []
   }
  },
  {
   "cell_type": "markdown",
   "source": [
    "**Exercice 13:**\r\n",
    "\r\n",
    "Ecrire un programme qui permet de calculer le nombre de mots dans une phrase saisie par l'utilisateur."
   ],
   "metadata": {}
  },
  {
   "cell_type": "code",
   "execution_count": 57,
   "source": [
    "nbr_mots = 1\r\n",
    "phrase = input(\"Saisissez une phrase\")\r\n",
    "print(len(phrase.split()))"
   ],
   "outputs": [
    {
     "output_type": "stream",
     "name": "stdout",
     "text": [
      "2\n"
     ]
    }
   ],
   "metadata": {
    "tags": []
   }
  },
  {
   "cell_type": "markdown",
   "source": [
    "---\r\n",
    "\r\n",
    "## 4. Pour s'entraîner\r\n",
    "\r\n",
    "**Exercice 14:**\r\n",
    "    \r\n",
    "Soit la variable my_input = \"zoophysiology\". Ecrire un script qui permet d'afficher l'un des messages suivants en fonction du nombre maximum de *o* consécutifs dans la variable *my_input*. Par exemple, le script doit afficher \"I like studying birds! I want to become an ornithologist!\" parce qu'il y a deux *o* consécutifs, même s'il y a aussi des *o* individual.\r\n",
    "Ignorer les *o* majuscules - recherchez que les *o* minuscules.\r\n",
    "\r\n",
    "* Si \"o\" apparaît trois fois ou plus de suite, afficher le message \"I like going to the zoo!\"  \r\n",
    "* Si \"o\" apparaît deux fois, afficher le message \"I like studying birds! I want to become an ornithologist!\"  \r\n",
    "* Si \"o\" apparaît une seule fois, afficher le message \"I like studying fish! I want to become an ichthyologist!\"  \r\n",
    "* Si \"o\" n'apparaît pas dans la variable *my_input*, afficher le message \"I miss going to the zoo!\"  \r\n",
    "\r\n",
    "**Astuce :** Utiliser l'opérateur **in** qui renvoie **True** si la première chaîne se trouve dans la deuxième chaîne. "
   ],
   "metadata": {
    "slideshow": {
     "slide_type": "slide"
    }
   }
  },
  {
   "cell_type": "code",
   "execution_count": 58,
   "source": [
    "my_input = \"zoophysiology\"\r\n",
    "nbr_o = 0\r\n",
    "nbr_o_mem = 0\r\n",
    "for n in range(len(my_input)) :\r\n",
    "    if \"o\" == my_input[n] :\r\n",
    "        nbr_o += 1\r\n",
    "    else :\r\n",
    "        if nbr_o_mem < nbr_o :\r\n",
    "            nbr_o_mem = nbr_o\r\n",
    "        nbr_o = 0\r\n",
    "if nbr_o_mem == 0 :\r\n",
    "    print(\"I miss going to the zoo!\")\r\n",
    "if nbr_o_mem == 1 :\r\n",
    "    print(\"I like studying fish! I want to become an ichthyologist!\")\r\n",
    "if nbr_o_mem == 2 :\r\n",
    "    print(\"I like studying birds! I want to become an ornithologist!\")\r\n",
    "if nbr_o_mem >= 3 :\r\n",
    "    print(\"I like going to the zoo!\")\r\n",
    "\r\n"
   ],
   "outputs": [
    {
     "output_type": "stream",
     "name": "stdout",
     "text": [
      "I like studying birds! I want to become an ornithologist!\n"
     ]
    }
   ],
   "metadata": {
    "slideshow": {
     "slide_type": "notes"
    }
   }
  },
  {
   "cell_type": "markdown",
   "source": [
    "**Exercice 15:**\n",
    "    \n",
    "Créer quatre variables nommées *team_1* et *team_2*, représentant deux noms d'équipes, et *team_1_score* et *team_2_score*, représentant les scores de ces deux équipes. \n",
    "Une équipe gagne si son score est supérieur à l'autre score de l'autre équipe.\n",
    " \n",
    "Ecrire un premier script qui permet d'afficher les messages suivants selon les valeurs entrées, ceci en utilisant seulement les quatres variables créées :\n",
    "* Si une équipe bat l'autre, affichez: \"\\[winner\\] beat \\[loser\\] by \\[margin\\]\"\n",
    "* Si aucune des équipes n'a gagné, affichez: \"\\[team_1\\] played \\[team_2\\] and it was a tie\"\n",
    "\n",
    "Ecrire un deuxième script qui permet d'afficher les mêmes messages mais en ajoutant trois variables de plus :\n",
    "* La variable *winner* pour définir l'équipe gagnante  \n",
    "* La variable *loser* pour définier l'équipe perdante  \n",
    "* La variable *margin* pour définir la différence entre les deux scores \n"
   ],
   "metadata": {
    "slideshow": {
     "slide_type": "slide"
    }
   }
  },
  {
   "cell_type": "code",
   "execution_count": 59,
   "source": [
    "team_1 = \"a\"\r\n",
    "team_2 = \"b\"\r\n",
    "team_1_score = 1\r\n",
    "team_2_score = 2\r\n",
    "if team_1_score > team_2_score :\r\n",
    "    print(team_1, \"beat\", team_2, \"by\", team_1_score-team_2_score)\r\n",
    "elif team_1_score < team_2_score :\r\n",
    "    print(team_2, \"beat\", team_1, \"by\", team_2_score-team_1_score)\r\n",
    "else :\r\n",
    "    print(team_1, \"played\", team_2, \"and it was a tie\")"
   ],
   "outputs": [
    {
     "output_type": "stream",
     "name": "stdout",
     "text": [
      "b beat a by 1\n"
     ]
    }
   ],
   "metadata": {
    "slideshow": {
     "slide_type": "notes"
    }
   }
  },
  {
   "cell_type": "code",
   "execution_count": null,
   "source": [
    "team_1 = \"a\"\r\n",
    "team_2 = \"b\"\r\n",
    "team_1_score = 1\r\n",
    "team_2_score = 2\r\n",
    "if team_1_score > team_2_score :\r\n",
    "    winner = team_1\r\n",
    "    looser = team_2\r\n",
    "elif team_1_score < team_2_score :\r\n",
    "    winner = team_2\r\n",
    "    looser = team_1\r\n",
    "margin = abs(team_1_score - team_2_score)\r\n",
    "if margin != 0 :\r\n",
    "    print(winner, \"beat\", looser, \"by\", margin)\r\n",
    "else :\r\n",
    "    print(team_1, \"played\", team_2, \"and it was a tie\")"
   ],
   "outputs": [
    {
     "output_type": "stream",
     "name": "stdout",
     "text": [
      "b beat a by 1\n"
     ]
    }
   ],
   "metadata": {
    "slideshow": {
     "slide_type": "notes"
    }
   }
  },
  {
   "cell_type": "markdown",
   "source": [
    "**Exercice 16:**\n",
    "    \n",
    "L'Indice de Masse Corporelle (IMC) permet d'estimer le poids idéal en fonction de la taille. Son calcul correspond au poids en kilogrammes divisé par le carré de la taille en mètre (IMC = poids en kg/taille² en m). Le chiffre obtenu permet d'estimer la corpulence et éventuellement le surpoids ou l'obésité chez l'adulte, homme ou femme.\n",
    "L'interprétation de l'IMC pour les personnes de 16 ans et plus est la suivante :\n",
    "* Moins de 18.5: Underweight\n",
    "* Entre 18.5 et 24.9: Normal\n",
    "* Entre 25.0 et 29.9: Overweight\n",
    "* Plus que 30.0: Obese\n",
    "\n",
    "Ecrire un programme qui permet de saisir un poids en *pounds* et une taille en *inches*, de calculer et d'afficher l'IMC à deux valeurs après la virgule, et d'afficher l'interprétation la plus adéquate. Notez qu'un *pound* équivaut à 0,45359237 kilogrammes et qu'un *inch* équivaut à 0,0254 mètre.  \n",
    "\n",
    "**Astuce :** Pour afficher deux valeurs après la virgule, utilisez la fonction **format(nom_variable, \".2f\")**. Exemple : **print('La moyenne est :', format(moyenne, \".2f\"))**"
   ],
   "metadata": {
    "slideshow": {
     "slide_type": "slide"
    }
   }
  },
  {
   "cell_type": "code",
   "execution_count": 60,
   "source": [
    "poids_lb = float(input(\"Saisissez le poids en pounds\"))\r\n",
    "taille_in = float(input(\"Saisissez la taile en inches\"))\r\n",
    "poids_kg = poids_lb * 0.45359237\r\n",
    "taille_m = taille_in * 0.0254\r\n",
    "IMC = poids_kg / (taille_m**2)\r\n",
    "if IMC < 18.5 :\r\n",
    "    print(\"IMC =\", format(IMC, \".2f\"), \"\\n Underweight\")\r\n",
    "elif 18.5 < IMC < 24.9 :\r\n",
    "    print(\"IMC =\", format(IMC, \".2f\"), \"\\n Normal\")\r\n",
    "elif 25 < IMC < 29.9 :\r\n",
    "    print(\"IMC =\", format(IMC, \".2f\"), \"\\n Overweight\")\r\n",
    "else :\r\n",
    "    print(\"IMC =\", format(IMC, \".2f\"), \"\\n Obese\")"
   ],
   "outputs": [
    {
     "output_type": "stream",
     "name": "stdout",
     "text": [
      "IMC = 21.52 \n",
      " Normal\n"
     ]
    }
   ],
   "metadata": {
    "slideshow": {
     "slide_type": "notes"
    }
   }
  },
  {
   "cell_type": "markdown",
   "source": [
    "**Exercice 17:**\n",
    "\n",
    "Ecrire un programme qui affiche un triangle d'étoiles de taille donnée, par exemple si on entre 6, le programme affiche:\n",
    "```\n",
    "*\n",
    "**\n",
    "***\n",
    "****\n",
    "*****\n",
    "******\n",
    "```"
   ],
   "metadata": {}
  },
  {
   "cell_type": "code",
   "execution_count": 61,
   "source": [
    "taille = int(input(\"Entrez la taille du triangle\"))\r\n",
    "for n in range(taille + 1):\r\n",
    "    print(\"*\" * n)"
   ],
   "outputs": [
    {
     "output_type": "stream",
     "name": "stdout",
     "text": [
      "\n",
      "*\n",
      "**\n",
      "***\n",
      "****\n",
      "*****\n",
      "******\n"
     ]
    }
   ],
   "metadata": {
    "tags": []
   }
  },
  {
   "cell_type": "markdown",
   "source": [
    "**Exercice 18:**\n",
    "\n",
    "Même exercice mais cette fois la sortie est\n",
    "```\n",
    "     *\n",
    "    **         \n",
    "   ***\n",
    "  ****\n",
    " *****\n",
    "******\n",
    "```"
   ],
   "metadata": {}
  },
  {
   "cell_type": "code",
   "execution_count": 62,
   "source": [
    "taille = int(input(\"Entrez la taille du triangle\"))\r\n",
    "for n in range(taille + 1):\r\n",
    "    print((taille - n) * \" \" + \"*\" * n)"
   ],
   "outputs": [
    {
     "output_type": "stream",
     "name": "stdout",
     "text": [
      "      \n",
      "     *\n",
      "    **\n",
      "   ***\n",
      "  ****\n",
      " *****\n",
      "******\n"
     ]
    }
   ],
   "metadata": {
    "tags": []
   }
  },
  {
   "cell_type": "markdown",
   "source": [
    "**Exercice 19:**\n",
    "\n",
    "Ecrire un programme qui calcule, étant donné un entier *n* rentré par l'utilisateur, la plus grande puissance de *n* inférieure à un million."
   ],
   "metadata": {}
  },
  {
   "cell_type": "code",
   "execution_count": 63,
   "source": [
    "n = int(input(\"Entrez un entier\"))\r\n",
    "i = -1\r\n",
    "while n**i < 1000000 :\r\n",
    "    i += 1\r\n",
    "print(\"La plus grande puissance de\", n, \"inférieure à un million est\", i-1)"
   ],
   "outputs": [
    {
     "output_type": "stream",
     "name": "stdout",
     "text": [
      "La plus grande puissance de 2 inférieure à un million est 19\n"
     ]
    }
   ],
   "metadata": {
    "tags": []
   }
  }
 ],
 "metadata": {
  "celltoolbar": "Diaporama",
  "kernelspec": {
   "name": "python3",
   "display_name": "Python 3.9.7 64-bit ('l1-python': conda)"
  },
  "language_info": {
   "codemirror_mode": {
    "name": "ipython",
    "version": 3
   },
   "file_extension": ".py",
   "mimetype": "text/x-python",
   "name": "python",
   "nbconvert_exporter": "python",
   "pygments_lexer": "ipython3",
   "version": "3.9.7"
  },
  "interpreter": {
   "hash": "ac8670c340231d6f7714938eae3048d32d1692966e2ebe9007b5763411a361c1"
  }
 },
 "nbformat": 4,
 "nbformat_minor": 4
}